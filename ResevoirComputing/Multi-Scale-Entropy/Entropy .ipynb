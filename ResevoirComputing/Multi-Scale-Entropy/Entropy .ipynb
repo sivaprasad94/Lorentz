{
 "cells": [
  {
   "cell_type": "code",
   "execution_count": 1,
   "metadata": {},
   "outputs": [],
   "source": [
    "import pandas as pd\n",
    "df=  pd.read_excel(r'C:\\Users\\INFO-DSK-02\\Desktop\\Lorentz Multi Dimension Prediction-Phase-2\\Final_Version\\3D_ReservoirComputing\\Input\\Mackey Glass Data\\MCglass.xlsx')"
   ]
  },
  {
   "cell_type": "code",
   "execution_count": 21,
   "metadata": {},
   "outputs": [],
   "source": [
    "ts = np.array(df['x'])\n",
    "std_ts = np.std(ts)\n",
    "mse_200 = ent.sample_entropy(time_series = ts, sample_length = 200)"
   ]
  },
  {
   "cell_type": "code",
   "execution_count": 16,
   "metadata": {},
   "outputs": [],
   "source": [
    "ts = np.array(df['x'])\n",
    "std_ts = np.std(ts)\n",
    "mse_500 = ent.sample_entropy(time_series = ts, sample_length = 500)"
   ]
  },
  {
   "cell_type": "code",
   "execution_count": 17,
   "metadata": {},
   "outputs": [],
   "source": [
    "ts = np.array(df['x'])\n",
    "std_ts = np.std(ts)\n",
    "mse_1000 = ent.multiscale_entropy(time_series = ts, sample_length = 1000)"
   ]
  },
  {
   "cell_type": "code",
   "execution_count": 18,
   "metadata": {},
   "outputs": [],
   "source": [
    "ts = np.array(df['x'])\n",
    "std_ts = np.std(ts)\n",
    "mse_1500 = ent.multiscale_entropy(time_series = ts, sample_length = 1500, tolerance = None, maxscale = 20)"
   ]
  },
  {
   "cell_type": "code",
   "execution_count": 25,
   "metadata": {},
   "outputs": [
    {
     "data": {
      "text/plain": [
       "200"
      ]
     },
     "execution_count": 25,
     "metadata": {},
     "output_type": "execute_result"
    }
   ],
   "source": [
    "len(mse_200)"
   ]
  }
 ],
 "metadata": {
  "kernelspec": {
   "display_name": "Python 3",
   "language": "python",
   "name": "python3"
  },
  "language_info": {
   "codemirror_mode": {
    "name": "ipython",
    "version": 3
   },
   "file_extension": ".py",
   "mimetype": "text/x-python",
   "name": "python",
   "nbconvert_exporter": "python",
   "pygments_lexer": "ipython3",
   "version": "3.7.1"
  }
 },
 "nbformat": 4,
 "nbformat_minor": 2
}
