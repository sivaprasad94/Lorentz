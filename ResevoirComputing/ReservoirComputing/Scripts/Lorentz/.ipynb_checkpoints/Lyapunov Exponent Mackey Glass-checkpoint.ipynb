{
 "cells": [
  {
   "cell_type": "code",
   "execution_count": null,
   "metadata": {},
   "outputs": [],
   "source": [
    "import pandas as pd\n",
    "import nolds\n",
    "import numpy as np"
   ]
  },
  {
   "cell_type": "code",
   "execution_count": null,
   "metadata": {},
   "outputs": [],
   "source": [
    "df =  pd.read_excel(r'C:\\Users\\INFO-DSK-02\\Desktop\\Lorentz Multi Dimension Prediction-Phase-2\\Final_Version\\3D_ReservoirComputing\\Input\\Mackey Glass Data\\MCglass.xlsx', index = False)"
   ]
  },
  {
   "cell_type": "code",
   "execution_count": null,
   "metadata": {},
   "outputs": [],
   "source": [
    "data_x = list(df['x'])"
   ]
  },
  {
   "cell_type": "code",
   "execution_count": null,
   "metadata": {
    "scrolled": true
   },
   "outputs": [],
   "source": [
    "from math import log\n",
    " \n",
    "def d(series,i,j):\n",
    "    return abs(series[i]-series[j])\n",
    "\n",
    "N=len(data_x)\n",
    "print(N)\n",
    "eps=input('Initial diameter bound: ')\n",
    "dlist=[[] for i in range(N)]\n",
    "n=0 #number of nearby pairs found\n",
    "k_s = []\n",
    "for i in range(N):\n",
    "#     print(i)\n",
    "    for j in range(i+17,N):\n",
    "        if d(data_x,i,j) < float(eps):\n",
    "            n+=1\n",
    "            for k in range(min(N-i,N-j)):\n",
    "                k_s.append(k)\n",
    "                dlist[k].append(log(d(data_x,i+k,j+k)))\n",
    "i_s = []\n",
    "lps = []\n",
    "for i in range(len(dlist)):\n",
    "#     print(i)\n",
    "    if len(dlist[i]):\n",
    "        i_s.append(i)\n",
    "        lps.append(sum(dlist[i])/len(dlist[i]))\n",
    "#         print(i, sum(dlist[i])/len(dlist[i]))"
   ]
  },
  {
   "cell_type": "code",
   "execution_count": null,
   "metadata": {},
   "outputs": [],
   "source": [
    "df1 = pd.DataFrame()"
   ]
  },
  {
   "cell_type": "code",
   "execution_count": null,
   "metadata": {},
   "outputs": [],
   "source": [
    "df1['Lyapunov_Exponents'] = lps\n",
    "df1['Index'] = i_s"
   ]
  },
  {
   "cell_type": "code",
   "execution_count": null,
   "metadata": {},
   "outputs": [],
   "source": [
    "df1.info()"
   ]
  },
  {
   "cell_type": "code",
   "execution_count": null,
   "metadata": {},
   "outputs": [],
   "source": [
    "import seaborn as sns; sns.set()\n",
    "import matplotlib.pyplot as plt\n",
    "ax = sns.lineplot(x=\"Index\", y=\"Lyapunov_Exponents\", data=df1)"
   ]
  },
  {
   "cell_type": "code",
   "execution_count": null,
   "metadata": {},
   "outputs": [],
   "source": [
    "df1.head(20)"
   ]
  },
  {
   "cell_type": "code",
   "execution_count": null,
   "metadata": {},
   "outputs": [],
   "source": [
    "df1.to_excel(r'C:\\Users\\INFO-DSK-02\\Desktop\\Lorentz Multi Dimension Prediction-Phase-2\\Final_Version\\3D_ReservoirComputing\\Output\\MC_Data\\Lyapunov_Exponenets_MC_Data.xlsx', index = False)"
   ]
  }
 ],
 "metadata": {
  "kernelspec": {
   "display_name": "Python 3",
   "language": "python",
   "name": "python3"
  },
  "language_info": {
   "codemirror_mode": {
    "name": "ipython",
    "version": 3
   },
   "file_extension": ".py",
   "mimetype": "text/x-python",
   "name": "python",
   "nbconvert_exporter": "python",
   "pygments_lexer": "ipython3",
   "version": "3.7.1"
  }
 },
 "nbformat": 4,
 "nbformat_minor": 2
}
