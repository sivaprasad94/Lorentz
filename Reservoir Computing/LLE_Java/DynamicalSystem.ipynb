{
 "cells": [
  {
   "cell_type": "code",
   "execution_count": null,
   "metadata": {},
   "outputs": [],
   "source": [
    "class DynamicalSystem:\n",
    "    x = []\n",
    "    k1 = []\n",
    "    k2 = []\n",
    "    k3 = []\n",
    "    k4 = []\n",
    "    def DynamicalSystem(x0, dt):\n",
    "        dimension = len(x0)\n",
    "        x = []\n",
    "        dt = dt\n",
    "        t = 0.0 \n",
    "        k1 = []\n",
    "        k2 = []\n",
    "        k3 = []\n",
    "        k4 = []\n",
    "        \n",
    "    def computeDerivatives(t, x, xDot):\n",
    "        \n",
    "    def getDimension():\n",
    "        return len(x0)\n",
    "    def evolve():\n",
    "        x = integrate(x,t,dt,1)\n",
    "        t = t+dt\n",
    "        return x\n",
    "    def evolveOther():\n",
    "        result = integrate(xOther, t,dt,1)\n",
    "        return result\n",
    "    def integrate(x, tStart, dt, num):\n",
    "        evolved = []\n",
    "        t = tStart\n",
    "        for i in range(0,num):\n",
    "            computeDerivatives(t, evolved, k1)\n",
    "            "
   ]
  },
  {
   "cell_type": "code",
   "execution_count": null,
   "metadata": {},
   "outputs": [],
   "source": []
  },
  {
   "cell_type": "code",
   "execution_count": null,
   "metadata": {},
   "outputs": [],
   "source": []
  },
  {
   "cell_type": "code",
   "execution_count": null,
   "metadata": {},
   "outputs": [],
   "source": []
  },
  {
   "cell_type": "code",
   "execution_count": null,
   "metadata": {},
   "outputs": [],
   "source": []
  },
  {
   "cell_type": "code",
   "execution_count": null,
   "metadata": {},
   "outputs": [],
   "source": []
  },
  {
   "cell_type": "code",
   "execution_count": null,
   "metadata": {},
   "outputs": [],
   "source": []
  },
  {
   "cell_type": "code",
   "execution_count": 1,
   "metadata": {},
   "outputs": [
    {
     "ename": "SyntaxError",
     "evalue": "invalid syntax (<ipython-input-1-da587e2cbc8b>, line 8)",
     "output_type": "error",
     "traceback": [
      "\u001b[1;36m  File \u001b[1;32m\"<ipython-input-1-da587e2cbc8b>\"\u001b[1;36m, line \u001b[1;32m8\u001b[0m\n\u001b[1;33m    def DynamicalSystem(x0 = x0, 0.01):\u001b[0m\n\u001b[1;37m                                    ^\u001b[0m\n\u001b[1;31mSyntaxError\u001b[0m\u001b[1;31m:\u001b[0m invalid syntax\n"
     ]
    }
   ],
   "source": [
    "class LorenzSystem:\n",
    "\n",
    "    sigma = 10.0\n",
    "    beta = 8.0/3.0\n",
    "    rho = 28.0\n",
    "    \n",
    "    def LorenzSystem(sigma, beta, rho, x0 = [1,1.2,1.2]):\n",
    "        def DynamicalSystem(x0 = x0, 0.01 ):\n",
    "            dimension = len(x0)\n",
    "            dt = dt\n",
    "            t = 0.0\n",
    "        sigma = sigma;\n",
    "        beta = beta;\n",
    "        rho = rho;\n",
    "    \n",
    "    def computeDerivatives(t, x, xDot = []):\n",
    "        xDot[0] = sigma*(x[1] - x[0]);\n",
    "        xDot[1] = x[0]*(rho - x[2]) - x[1];\n",
    "        xDot[2] = x[0]*x[1] - beta*x[2];\n"
   ]
  },
  {
   "cell_type": "code",
   "execution_count": null,
   "metadata": {},
   "outputs": [],
   "source": [
    "def computeDerivatives(t, x, xDot):\n",
    "    xDot[0] = sigma*(x[1] - x[0]);\n",
    "    xDot[1] = x[0]*(rho - x[2]) - x[1];\n",
    "    xDot[2] = x[0]*x[1] - beta*x[2];\n",
    "\n",
    "\n",
    "def getDimension():\n",
    "    return len(x0)"
   ]
  },
  {
   "cell_type": "code",
   "execution_count": null,
   "metadata": {},
   "outputs": [],
   "source": [
    "def evolve()\n",
    "    x = integrate(x, t, dt, 1);\n",
    "    t += dt;                           \n",
    "    return x;"
   ]
  },
  {
   "cell_type": "code",
   "execution_count": null,
   "metadata": {},
   "outputs": [],
   "source": [
    "def evolveOther(xOther)\n",
    "    result = integrate(xOther, t, dt, 1);  \n",
    "    return result"
   ]
  },
  {
   "cell_type": "code",
   "execution_count": null,
   "metadata": {},
   "outputs": [],
   "source": []
  },
  {
   "cell_type": "code",
   "execution_count": null,
   "metadata": {},
   "outputs": [],
   "source": [
    "def integrate(x, tStart, dt, num):\n",
    "    t = tStart\n",
    "    for i in range(num):\n",
    "        k1 = []\n",
    "        \n",
    "        computeDerivatives(t, evolved, k1)"
   ]
  },
  {
   "cell_type": "code",
   "execution_count": null,
   "metadata": {},
   "outputs": [],
   "source": [
    "def rungeKutta(x0, y0, x, h): \n",
    "    # Count number of iterations using step size or \n",
    "    # step height h \n",
    "    n = (int)((x - x0)/h)  \n",
    "    # Iterate for number of iterations \n",
    "    y = y0 \n",
    "    for i in range(1, n + 1): \n",
    "        \"Apply Runge Kutta Formulas to find next value of y\"\n",
    "        k1 = h * dydx(x0, y) \n",
    "        k2 = h * dydx(x0 + 0.5 * h, y + 0.5 * k1) \n",
    "        k3 = h * dydx(x0 + 0.5 * h, y + 0.5 * k2) \n",
    "        k4 = h * dydx(x0 + h, y + k3) \n",
    "  \n",
    "        # Update next value of y \n",
    "        y = y + (1.0 / 6.0)*(k1 + 2 * k2 + 2 * k3 + k4) \n",
    "  \n",
    "        # Update next value of x \n",
    "        x0 = x0 + h \n",
    "    return y "
   ]
  },
  {
   "cell_type": "code",
   "execution_count": null,
   "metadata": {},
   "outputs": [],
   "source": [
    "def evolve():\n",
    "    x = integrate(x, t, dt, 1);\n",
    "    t += dt;                           \n",
    "    return x;"
   ]
  }
 ],
 "metadata": {
  "kernelspec": {
   "display_name": "Python 3",
   "language": "python",
   "name": "python3"
  },
  "language_info": {
   "codemirror_mode": {
    "name": "ipython",
    "version": 3
   },
   "file_extension": ".py",
   "mimetype": "text/x-python",
   "name": "python",
   "nbconvert_exporter": "python",
   "pygments_lexer": "ipython3",
   "version": "3.7.1"
  }
 },
 "nbformat": 4,
 "nbformat_minor": 2
}
