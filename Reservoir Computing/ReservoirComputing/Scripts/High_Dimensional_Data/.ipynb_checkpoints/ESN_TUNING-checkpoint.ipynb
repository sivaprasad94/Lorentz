{
 "cells": [
  {
   "cell_type": "code",
   "execution_count": 1,
   "metadata": {},
   "outputs": [],
   "source": [
    "import numpy as np\n",
    "import matplotlib.pyplot as plt\n",
    "import ESN\n",
    "import pandas as pd"
   ]
  },
  {
   "cell_type": "code",
   "execution_count": 2,
   "metadata": {},
   "outputs": [],
   "source": [
    "def set_seed(seed=42):\n",
    "    \"\"\"Making the seed (for random values) variable if None\"\"\"\n",
    "\n",
    "    # Set the seed\n",
    "    if seed is None:\n",
    "        import time\n",
    "        seed = int((time.time()*10**6) % 4294967295)\n",
    "    try:\n",
    "        np.random.seed(seed)\n",
    "    except Exception as e:\n",
    "        print( \"!!! WARNING !!!: Seed was not set correctly.\")\n",
    "        print( \"!!! Seed that we tried to use: \"+str(seed))\n",
    "        print( \"!!! Error message: \"+str(e))\n",
    "        seed = None\n",
    "    print( \"Seed used for random values:\", seed)\n",
    "    return seed"
   ]
  },
  {
   "cell_type": "code",
   "execution_count": 5,
   "metadata": {},
   "outputs": [],
   "source": [
    "import pandas as pd\n",
    "dfs= []\n",
    "for i in range(1,26):\n",
    "    data = pd.read_csv(r'C:\\Users\\INFO-DSK-02\\Desktop\\Lorentz Multi Dimension Prediction-Phase-2\\Final_Version\\3D_ReservoirComputing\\Input\\High_Dimensional_Data\\{}.txt'.format(i), header = None,sep=\"\\t\")\n",
    "    data.drop(0, axis = 1, inplace = True)\n",
    "    data.rename(columns = {1: 'x{}'.format(i)}, inplace = True)\n",
    "    dfs.append(data)\n",
    "df = pd.concat(dfs, axis = 1)\n",
    "df = df.dropna()"
   ]
  },
  {
   "cell_type": "code",
   "execution_count": 6,
   "metadata": {},
   "outputs": [
    {
     "data": {
      "text/html": [
       "<div>\n",
       "<style scoped>\n",
       "    .dataframe tbody tr th:only-of-type {\n",
       "        vertical-align: middle;\n",
       "    }\n",
       "\n",
       "    .dataframe tbody tr th {\n",
       "        vertical-align: top;\n",
       "    }\n",
       "\n",
       "    .dataframe thead th {\n",
       "        text-align: right;\n",
       "    }\n",
       "</style>\n",
       "<table border=\"1\" class=\"dataframe\">\n",
       "  <thead>\n",
       "    <tr style=\"text-align: right;\">\n",
       "      <th></th>\n",
       "      <th>x1</th>\n",
       "      <th>x2</th>\n",
       "      <th>x3</th>\n",
       "      <th>x4</th>\n",
       "      <th>x5</th>\n",
       "      <th>x6</th>\n",
       "      <th>x7</th>\n",
       "      <th>x8</th>\n",
       "      <th>x9</th>\n",
       "      <th>x10</th>\n",
       "      <th>...</th>\n",
       "      <th>x16</th>\n",
       "      <th>x17</th>\n",
       "      <th>x18</th>\n",
       "      <th>x19</th>\n",
       "      <th>x20</th>\n",
       "      <th>x21</th>\n",
       "      <th>x22</th>\n",
       "      <th>x23</th>\n",
       "      <th>x24</th>\n",
       "      <th>x25</th>\n",
       "    </tr>\n",
       "  </thead>\n",
       "  <tbody>\n",
       "    <tr>\n",
       "      <td>0</td>\n",
       "      <td>176.598775</td>\n",
       "      <td>175.998775</td>\n",
       "      <td>172.2</td>\n",
       "      <td>172.0</td>\n",
       "      <td>171.25</td>\n",
       "      <td>169.5</td>\n",
       "      <td>169.0</td>\n",
       "      <td>155.682600</td>\n",
       "      <td>151.627000</td>\n",
       "      <td>150.327000</td>\n",
       "      <td>...</td>\n",
       "      <td>118.582215</td>\n",
       "      <td>112.075583</td>\n",
       "      <td>100.614083</td>\n",
       "      <td>94.156908</td>\n",
       "      <td>89.573324</td>\n",
       "      <td>89.281630</td>\n",
       "      <td>85.278315</td>\n",
       "      <td>81.069259</td>\n",
       "      <td>78.477433</td>\n",
       "      <td>76.218042</td>\n",
       "    </tr>\n",
       "    <tr>\n",
       "      <td>1</td>\n",
       "      <td>172.376055</td>\n",
       "      <td>171.776055</td>\n",
       "      <td>173.2</td>\n",
       "      <td>172.0</td>\n",
       "      <td>171.25</td>\n",
       "      <td>169.5</td>\n",
       "      <td>169.0</td>\n",
       "      <td>157.301557</td>\n",
       "      <td>153.020241</td>\n",
       "      <td>151.720241</td>\n",
       "      <td>...</td>\n",
       "      <td>119.997323</td>\n",
       "      <td>113.433513</td>\n",
       "      <td>101.904843</td>\n",
       "      <td>95.347797</td>\n",
       "      <td>90.706940</td>\n",
       "      <td>90.324103</td>\n",
       "      <td>86.250946</td>\n",
       "      <td>82.008262</td>\n",
       "      <td>79.370272</td>\n",
       "      <td>77.057304</td>\n",
       "    </tr>\n",
       "    <tr>\n",
       "      <td>2</td>\n",
       "      <td>172.657570</td>\n",
       "      <td>172.057570</td>\n",
       "      <td>173.2</td>\n",
       "      <td>173.0</td>\n",
       "      <td>172.25</td>\n",
       "      <td>170.5</td>\n",
       "      <td>170.0</td>\n",
       "      <td>157.645460</td>\n",
       "      <td>153.577537</td>\n",
       "      <td>152.277537</td>\n",
       "      <td>...</td>\n",
       "      <td>120.301768</td>\n",
       "      <td>113.725656</td>\n",
       "      <td>102.176182</td>\n",
       "      <td>95.598141</td>\n",
       "      <td>90.945245</td>\n",
       "      <td>90.548379</td>\n",
       "      <td>86.460197</td>\n",
       "      <td>82.210278</td>\n",
       "      <td>79.562356</td>\n",
       "      <td>77.237862</td>\n",
       "    </tr>\n",
       "    <tr>\n",
       "      <td>3</td>\n",
       "      <td>174.909687</td>\n",
       "      <td>174.309687</td>\n",
       "      <td>174.2</td>\n",
       "      <td>174.0</td>\n",
       "      <td>172.25</td>\n",
       "      <td>170.5</td>\n",
       "      <td>170.0</td>\n",
       "      <td>158.396198</td>\n",
       "      <td>154.134834</td>\n",
       "      <td>152.834834</td>\n",
       "      <td>...</td>\n",
       "      <td>120.973840</td>\n",
       "      <td>114.370573</td>\n",
       "      <td>102.785935</td>\n",
       "      <td>96.160715</td>\n",
       "      <td>91.480763</td>\n",
       "      <td>91.043477</td>\n",
       "      <td>86.922125</td>\n",
       "      <td>82.656236</td>\n",
       "      <td>79.986388</td>\n",
       "      <td>77.636449</td>\n",
       "    </tr>\n",
       "    <tr>\n",
       "      <td>4</td>\n",
       "      <td>176.880290</td>\n",
       "      <td>176.280290</td>\n",
       "      <td>175.2</td>\n",
       "      <td>174.0</td>\n",
       "      <td>173.25</td>\n",
       "      <td>171.5</td>\n",
       "      <td>171.0</td>\n",
       "      <td>158.983253</td>\n",
       "      <td>154.970778</td>\n",
       "      <td>153.670778</td>\n",
       "      <td>...</td>\n",
       "      <td>121.501313</td>\n",
       "      <td>114.876733</td>\n",
       "      <td>103.275709</td>\n",
       "      <td>96.612594</td>\n",
       "      <td>91.910910</td>\n",
       "      <td>91.432052</td>\n",
       "      <td>87.284667</td>\n",
       "      <td>83.006243</td>\n",
       "      <td>80.319189</td>\n",
       "      <td>77.949279</td>\n",
       "    </tr>\n",
       "  </tbody>\n",
       "</table>\n",
       "<p>5 rows × 25 columns</p>\n",
       "</div>"
      ],
      "text/plain": [
       "           x1          x2     x3     x4      x5     x6     x7          x8  \\\n",
       "0  176.598775  175.998775  172.2  172.0  171.25  169.5  169.0  155.682600   \n",
       "1  172.376055  171.776055  173.2  172.0  171.25  169.5  169.0  157.301557   \n",
       "2  172.657570  172.057570  173.2  173.0  172.25  170.5  170.0  157.645460   \n",
       "3  174.909687  174.309687  174.2  174.0  172.25  170.5  170.0  158.396198   \n",
       "4  176.880290  176.280290  175.2  174.0  173.25  171.5  171.0  158.983253   \n",
       "\n",
       "           x9         x10  ...         x16         x17         x18        x19  \\\n",
       "0  151.627000  150.327000  ...  118.582215  112.075583  100.614083  94.156908   \n",
       "1  153.020241  151.720241  ...  119.997323  113.433513  101.904843  95.347797   \n",
       "2  153.577537  152.277537  ...  120.301768  113.725656  102.176182  95.598141   \n",
       "3  154.134834  152.834834  ...  120.973840  114.370573  102.785935  96.160715   \n",
       "4  154.970778  153.670778  ...  121.501313  114.876733  103.275709  96.612594   \n",
       "\n",
       "         x20        x21        x22        x23        x24        x25  \n",
       "0  89.573324  89.281630  85.278315  81.069259  78.477433  76.218042  \n",
       "1  90.706940  90.324103  86.250946  82.008262  79.370272  77.057304  \n",
       "2  90.945245  90.548379  86.460197  82.210278  79.562356  77.237862  \n",
       "3  91.480763  91.043477  86.922125  82.656236  79.986388  77.636449  \n",
       "4  91.910910  91.432052  87.284667  83.006243  80.319189  77.949279  \n",
       "\n",
       "[5 rows x 25 columns]"
      ]
     },
     "execution_count": 6,
     "metadata": {},
     "output_type": "execute_result"
    }
   ],
   "source": [
    "df.head()"
   ]
  },
  {
   "cell_type": "code",
   "execution_count": 7,
   "metadata": {},
   "outputs": [],
   "source": [
    "initLen = 1000\n",
    "trainLen = initLen + 6000\n",
    "testLen = 1900"
   ]
  },
  {
   "cell_type": "code",
   "execution_count": 39,
   "metadata": {},
   "outputs": [],
   "source": [
    "data_in = df.loc[:,'x1':'x25']"
   ]
  },
  {
   "cell_type": "code",
   "execution_count": 40,
   "metadata": {},
   "outputs": [],
   "source": [
    "data_in = np.array(data_in)"
   ]
  },
  {
   "cell_type": "code",
   "execution_count": 41,
   "metadata": {},
   "outputs": [],
   "source": [
    "train_in = np.array(data_in[0:trainLen])\n",
    "train_out = np.array(data_in[0+10:trainLen+10])\n",
    "valid_in = np.array(data_in[trainLen:trainLen+testLen])\n",
    "valid_out = np.array(data_in[trainLen+10:trainLen+testLen+10])"
   ]
  },
  {
   "cell_type": "code",
   "execution_count": 42,
   "metadata": {},
   "outputs": [
    {
     "data": {
      "text/plain": [
       "(1900, 25)"
      ]
     },
     "execution_count": 42,
     "metadata": {},
     "output_type": "execute_result"
    }
   ],
   "source": [
    "valid_in.shape"
   ]
  },
  {
   "cell_type": "code",
   "execution_count": 36,
   "metadata": {},
   "outputs": [],
   "source": [
    "n_r = [300,400,500,800] # number of recurrent units\n",
    "l_r =[ 0.3,0.2,0.1,0.4] # leaking rate (=1/time_constant_of_neurons)\n",
    "s_r = [1,1.2,1.4,1.5,1.6]\n",
    "r_c = [1e-3,1e-2,1e-1]\n",
    "train_in = train_in\n",
    "train_out = train_out\n",
    "valid_in = valid_in\n",
    "valid_out = valid_out\n",
    "input_bias = True\n",
    "dim_inp = 25\n",
    "n_outputs = 25\n",
    "initLen = initLen"
   ]
  },
  {
   "cell_type": "code",
   "execution_count": 37,
   "metadata": {
    "scrolled": true
   },
   "outputs": [],
   "source": [
    "def ESN_TUNE(n_reservoir, leak_rate, regularization_coef, spectral_radius, n_inputs,n_outputs, initLen, train_in, train_out, valid_in, valid_out):\n",
    "    Best_Parameters = []\n",
    "    input_bias = True\n",
    "    nr = n_reservoir\n",
    "    l_r = leak_rate\n",
    "    r_c = regularization_coef\n",
    "    s_r = spectral_radius\n",
    "    dim_inp = n_inputs\n",
    "    n_outputs = n_outputs\n",
    "    dim_inp = n_inputs\n",
    "    initLen = initLen\n",
    "    for N in n_r:\n",
    "        for L in l_r:\n",
    "            for R in r_c:\n",
    "                for i in range(len(s_r)):\n",
    "                    parameters = []\n",
    "                    N =  N#100\n",
    "                    spectral_radius = s_r[i]\n",
    "                    input_scaling = 1. # Scaling of input matrix\n",
    "                    proba_non_zero_connec_W = 0.2 # Sparsity of recurrent matrix: Perceptage of non-zero connections in W matrix\n",
    "                    proba_non_zero_connec_Win = 1. # Sparsity of input matrix\n",
    "                    proba_non_zero_connec_Wfb = 1.\n",
    "                        ### Generating random weight matrices with custom method\n",
    "                    W = np.random.rand(N,N) - 0.5\n",
    "                    if input_bias:\n",
    "                        Win = np.random.rand(N,dim_inp+1) - 0.5\n",
    "                    else:\n",
    "                        Win = np.random.rand(N,dim_inp) - 0.5\n",
    "                    Wfb = np.random.rand(N,n_outputs) - 0.5\n",
    "                    mask = np.random.rand(N,N) # create a mask Uniform[0;1]\n",
    "                    W[mask > proba_non_zero_connec_W] = 0 # set to zero some connections given by the mask\n",
    "                    mask = np.random.rand(N,Win.shape[1])\n",
    "                    Win[mask > proba_non_zero_connec_Win] = 0\n",
    "                    Win = Win * input_scaling\n",
    "                    original_spectral_radius = np.max(np.abs(np.linalg.eigvals(W)))\n",
    "                    W = W * (spectral_radius / original_spectral_radius)\n",
    "                    reservoir = ESN.ESN(lr=L, W=W, Win=Win, input_bias=input_bias, ridge=R, Wfb=None, fbfunc=None)\n",
    "                    internal_trained = reservoir.train(inputs=[train_in], teachers=[train_out], wash_nr_time_step=initLen, verbose=False)\n",
    "                    output_pred, internal_pred = reservoir.run(inputs=[valid_in,], reset_state=False)\n",
    "                    df_pred = pd.DataFrame(output_pred[0])\n",
    "                    df_test_out = pd.DataFrame(valid_out)\n",
    "                    X_MSE = np.mean((df_test_out[0][:] - df_pred[0])**2)\n",
    "                    Y_MSE = np.mean((df_test_out[1][:] - df_pred[1])**2)\n",
    "                    Z_MSE = np.mean((df_test_out[2][:] - df_pred[2])**2)\n",
    "#                     print('For ', N,L,R,s_r[i], 'parameters:: ', 'X, Y, Z MSE = ', X_MSE, Y_MSE, Z_MSE)\n",
    "#                     print('RMSE = ', np.sqrt(X_MSE**2+Y_MSE**2+Z_MSE**2))\n",
    "                    RMSE = np.sqrt(X_MSE**2+Y_MSE**2+Z_MSE**2)\n",
    "                    parameters.append({'n_reservoir':N,'leaky_rate':L,'regularization_coef':R,'spectral_radius' :s_r[i]})\n",
    "                    Best_Parameters.append([parameters, RMSE, X_MSE])\n",
    "    df = pd.DataFrame(Best_Parameters)\n",
    "    return df.iloc[np.argmin(np.array(df[1]))][0][0]"
   ]
  },
  {
   "cell_type": "code",
   "execution_count": 45,
   "metadata": {
    "scrolled": true
   },
   "outputs": [
    {
     "name": "stdout",
     "output_type": "stream",
     "text": [
      "449.8826544000003\n"
     ]
    }
   ],
   "source": [
    "import time\n",
    "t1 = time.perf_counter()\n",
    "best_parameters = ESN_TUNE(n_reservoir= [300,400,500,800,1000],\n",
    "         leak_rate = [ 0.3,0.2,0.1], \n",
    "         regularization_coef = [1e-3,1e-2,1e-1],\n",
    "         spectral_radius = [1,1.2,1.4,1.5], \n",
    "         n_inputs =25,\n",
    "         n_outputs = 25, \n",
    "         initLen  = initLen, \n",
    "         train_in = train_in, \n",
    "         train_out = train_out, \n",
    "         valid_in = valid_in, \n",
    "         valid_out = valid_out)\n",
    "t2 = time.perf_counter()\n",
    "print(t2-t1)"
   ]
  },
  {
   "cell_type": "code",
   "execution_count": 46,
   "metadata": {
    "scrolled": true
   },
   "outputs": [
    {
     "name": "stdout",
     "output_type": "stream",
     "text": [
      "Best Parameters : {'n_reservoir': 300, 'leaky_rate': 0.3, 'regularization_coef': 0.1, 'spectral_radius': 1.2}\n"
     ]
    }
   ],
   "source": [
    "print('Best Parameters :', best_parameters)"
   ]
  }
 ],
 "metadata": {
  "kernelspec": {
   "display_name": "Python 3",
   "language": "python",
   "name": "python3"
  },
  "language_info": {
   "codemirror_mode": {
    "name": "ipython",
    "version": 3
   },
   "file_extension": ".py",
   "mimetype": "text/x-python",
   "name": "python",
   "nbconvert_exporter": "python",
   "pygments_lexer": "ipython3",
   "version": "3.7.1"
  }
 },
 "nbformat": 4,
 "nbformat_minor": 2
}
