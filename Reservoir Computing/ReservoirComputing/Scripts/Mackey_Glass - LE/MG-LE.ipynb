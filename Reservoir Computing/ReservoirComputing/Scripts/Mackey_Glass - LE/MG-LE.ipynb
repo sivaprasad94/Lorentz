{
 "cells": [
  {
   "cell_type": "code",
   "execution_count": 3,
   "metadata": {},
   "outputs": [],
   "source": [
    "import pandas as pd\n",
    "import math"
   ]
  },
  {
   "cell_type": "code",
   "execution_count": 4,
   "metadata": {
    "scrolled": true
   },
   "outputs": [],
   "source": [
    "l_l_e_s = []\n",
    "for i in range(1,101):\n",
    "    df_noise = pd.read_excel(r'C:\\Users\\INFO-DSK-02\\Desktop\\Lorentz Multi Dimension Prediction-Phase-2\\Final_Version\\3D_ReservoirComputing\\Output\\MC_Data\\100_Trails\\With_Noise\\Train_{}_with_noise_pred.xlsx'.format(i))\n",
    "    df_without_noise = pd.read_excel(r'C:\\Users\\INFO-DSK-02\\Desktop\\Lorentz Multi Dimension Prediction-Phase-2\\Final_Version\\3D_ReservoirComputing\\Output\\MC_Data\\100_Trails\\With_Out_Noise\\Train_{}_without_noise_pred.xlsx'.format(i))\n",
    "    d1 = abs(sum(df_noise[101:118]['X_pred'] - df_without_noise[101:118]['X_pred'])/17)\n",
    "    d2 = abs(sum(df_noise[301:318]['X_pred'] - df_without_noise[301:318]['X_pred'])/17)\n",
    "    l_l_e_s.append(math.log(abs(d2)/abs(d1))/200)"
   ]
  },
  {
   "cell_type": "code",
   "execution_count": 6,
   "metadata": {},
   "outputs": [
    {
     "data": {
      "text/plain": [
       "0.005342039980087703"
      ]
     },
     "execution_count": 6,
     "metadata": {},
     "output_type": "execute_result"
    }
   ],
   "source": [
    "print('LLE' : sum([abs(x) for x in l_l_e_s])/100)"
   ]
  }
 ],
 "metadata": {
  "kernelspec": {
   "display_name": "Python 3",
   "language": "python",
   "name": "python3"
  },
  "language_info": {
   "codemirror_mode": {
    "name": "ipython",
    "version": 3
   },
   "file_extension": ".py",
   "mimetype": "text/x-python",
   "name": "python",
   "nbconvert_exporter": "python",
   "pygments_lexer": "ipython3",
   "version": "3.7.1"
  }
 },
 "nbformat": 4,
 "nbformat_minor": 2
}
