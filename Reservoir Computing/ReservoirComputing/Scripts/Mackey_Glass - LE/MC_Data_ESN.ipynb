{
 "cells": [
  {
   "cell_type": "markdown",
   "metadata": {},
   "source": [
    "# Predicting Mackey Glass using Echo State Neural Network"
   ]
  },
  {
   "cell_type": "markdown",
   "metadata": {},
   "source": [
    "### Importing Required Libraries"
   ]
  },
  {
   "cell_type": "code",
   "execution_count": 1,
   "metadata": {},
   "outputs": [],
   "source": [
    "import numpy as np\n",
    "import seaborn as sns\n",
    "import matplotlib.pyplot as plt\n",
    "import ESN\n",
    "import pandas as pd"
   ]
  },
  {
   "cell_type": "markdown",
   "metadata": {},
   "source": [
    "### Set seed for random weights generator"
   ]
  },
  {
   "cell_type": "code",
   "execution_count": 2,
   "metadata": {},
   "outputs": [],
   "source": [
    "def set_seed(seed=None):\n",
    "    \"\"\"Making the seed (for random values) variable if None\"\"\"\n",
    "\n",
    "    # Set the seed\n",
    "    if seed is None:\n",
    "        import time\n",
    "        seed = int((time.time()*10**6) % 4294967295)\n",
    "    try:\n",
    "        np.random.seed(seed)\n",
    "    except Exception as e:\n",
    "        print( \"!!! WARNING !!!: Seed was not set correctly.\")\n",
    "        print( \"!!! Seed that we tried to use: \"+str(seed))\n",
    "        print( \"!!! Error message: \"+str(e))\n",
    "        seed = None\n",
    "    print( \"Seed used for random values:\", seed)\n",
    "    return seed"
   ]
  },
  {
   "cell_type": "code",
   "execution_count": 3,
   "metadata": {},
   "outputs": [],
   "source": [
    "## Set a particular seed for the random generator (for example seed = 42), or use a \"random\" one (seed = None)\n",
    "# NB: reservoir performances should be averaged accross at least 30 random instances (with the same set of parameters)\n",
    "seed = 42 #None #42"
   ]
  },
  {
   "cell_type": "code",
   "execution_count": 4,
   "metadata": {},
   "outputs": [
    {
     "name": "stdout",
     "output_type": "stream",
     "text": [
      "Seed used for random values: 42\n"
     ]
    },
    {
     "data": {
      "text/plain": [
       "42"
      ]
     },
     "execution_count": 4,
     "metadata": {},
     "output_type": "execute_result"
    }
   ],
   "source": [
    "set_seed(seed) #random.seed(seed)"
   ]
  },
  {
   "cell_type": "code",
   "execution_count": 5,
   "metadata": {},
   "outputs": [],
   "source": [
    "initLen = 100\n",
    "trainLen = initLen + 1400\n",
    "testLen = 327"
   ]
  },
  {
   "cell_type": "code",
   "execution_count": 6,
   "metadata": {},
   "outputs": [],
   "source": [
    "df =  pd.read_excel(r'C:\\Users\\INFO-DSK-02\\Desktop\\Lorentz Multi Dimension Prediction-Phase-2\\Final_Version\\3D_ReservoirComputing\\Input\\Mackey Glass Data\\MCglass.xlsx', index = False)"
   ]
  },
  {
   "cell_type": "code",
   "execution_count": 7,
   "metadata": {},
   "outputs": [],
   "source": [
    "df = df[0:2000]"
   ]
  },
  {
   "cell_type": "code",
   "execution_count": null,
   "metadata": {},
   "outputs": [],
   "source": [
    "df[]"
   ]
  },
  {
   "cell_type": "markdown",
   "metadata": {},
   "source": [
    "# EDA"
   ]
  },
  {
   "cell_type": "code",
   "execution_count": 8,
   "metadata": {},
   "outputs": [],
   "source": [
    "import os\n",
    "if not os.path.exists(r\"C:\\Users\\INFO-DSK-02\\Desktop\\Lorentz Multi Dimension Prediction-Phase-2\\Final_Version\\3D_ReservoirComputing\\images\\Mackey Glass\"):\n",
    "    os.mkdir(r\"C:\\Users\\INFO-DSK-02\\Desktop\\Lorentz Multi Dimension Prediction-Phase-2\\Final_Version\\3D_ReservoirComputing\\images\\Mackey Glass\")"
   ]
  },
  {
   "cell_type": "code",
   "execution_count": 9,
   "metadata": {},
   "outputs": [
    {
     "name": "stderr",
     "output_type": "stream",
     "text": [
      "C:\\Users\\INFO-DSK-02\\Anaconda3\\lib\\site-packages\\ipykernel_launcher.py:9: UserWarning: This figure includes Axes that are not compatible with tight_layout, so results might be incorrect.\n",
      "  if __name__ == '__main__':\n",
      "C:\\Users\\INFO-DSK-02\\Anaconda3\\lib\\site-packages\\IPython\\core\\pylabtools.py:128: UserWarning: This figure includes Axes that are not compatible with tight_layout, so results might be incorrect.\n",
      "  fig.canvas.print_figure(bytes_io, **kw)\n"
     ]
    },
    {
     "data": {
      "image/png": "[encoded data removed]",
      "text/plain": [
       "<Figure size 432x288 with 1 Axes>"
      ]
     },
     "metadata": {
      "needs_background": "light"
     },
     "output_type": "display_data"
    }
   ],
   "source": [
    "from matplotlib import rcParams\n",
    "rcParams.update({'figure.autolayout': True})\n",
    "fig = plt.figure()\n",
    "ax=fig.add_axes([0,0,1,1])\n",
    "ax.plot(df['t'],df['x'] )\n",
    "plt.title('Plot of X w.r.t time of entire data',  fontsize=16)\n",
    "plt.xlabel('t', fontsize = 14)\n",
    "plt.ylabel('x', fontsize = 14)\n",
    "plt.savefig(r\"C:\\Users\\INFO-DSK-02\\Desktop\\Lorentz Multi Dimension Prediction-Phase-2\\Final_Version\\3D_ReservoirComputing\\images\\Mackey Glass\\X_with_Time.png\", bbox_inches = \"tight\")\n",
    "plt.show()"
   ]
  },
  {
   "cell_type": "markdown",
   "metadata": {},
   "source": [
    "### Split data for training and testing and creating teaches to train ESN on Input data"
   ]
  },
  {
   "cell_type": "code",
   "execution_count": 10,
   "metadata": {},
   "outputs": [],
   "source": [
    "data_in = df[['x']]\n",
    "data_T  =df['t']"
   ]
  },
  {
   "cell_type": "code",
   "execution_count": 11,
   "metadata": {},
   "outputs": [],
   "source": [
    "data_in = np.array(data_in)\n",
    "data_t = np.array(data_T)"
   ]
  },
  {
   "cell_type": "code",
   "execution_count": 12,
   "metadata": {},
   "outputs": [],
   "source": [
    "train_in = np.array(data_in[0:trainLen])\n",
    "train_out = np.array(data_in[0+10:trainLen+10])\n",
    "test_in = np.array(data_in[trainLen:trainLen+testLen])\n",
    "test_out = np.array(data_in[trainLen+10:trainLen+testLen+10])"
   ]
  },
  {
   "cell_type": "code",
   "execution_count": 17,
   "metadata": {},
   "outputs": [
    {
     "data": {
      "text/plain": [
       "327"
      ]
     },
     "execution_count": 17,
     "metadata": {},
     "output_type": "execute_result"
    }
   ],
   "source": [
    "len(test_out_t)"
   ]
  },
  {
   "cell_type": "code",
   "execution_count": 14,
   "metadata": {},
   "outputs": [
    {
     "data": {
      "text/plain": [
       "1510"
      ]
     },
     "execution_count": 14,
     "metadata": {},
     "output_type": "execute_result"
    }
   ],
   "source": [
    "trainLen+10"
   ]
  },
  {
   "cell_type": "code",
   "execution_count": 15,
   "metadata": {},
   "outputs": [
    {
     "data": {
      "text/plain": [
       "1837"
      ]
     },
     "execution_count": 15,
     "metadata": {},
     "output_type": "execute_result"
    }
   ],
   "source": [
    "trainLen+testLen+10"
   ]
  },
  {
   "cell_type": "code",
   "execution_count": 16,
   "metadata": {},
   "outputs": [],
   "source": [
    "train_in_t = np.array(data_T[0:trainLen])\n",
    "train_out_t = np.array(data_T[0+10:trainLen])\n",
    "test_in_t = np.array(data_T[trainLen:trainLen+testLen])\n",
    "test_out_t = np.array(data_T[trainLen+10:trainLen+testLen+10])"
   ]
  },
  {
   "cell_type": "code",
   "execution_count": 18,
   "metadata": {},
   "outputs": [
    {
     "data": {
      "text/plain": [
       "327"
      ]
     },
     "execution_count": 18,
     "metadata": {},
     "output_type": "execute_result"
    }
   ],
   "source": [
    "len(test_in)"
   ]
  },
  {
   "cell_type": "markdown",
   "metadata": {},
   "source": [
    "### <span style=\"color:blue\">Modify Parameters to tune ESN for better fit</span> "
   ]
  },
  {
   "cell_type": "code",
   "execution_count": 19,
   "metadata": {},
   "outputs": [],
   "source": [
    "n_reservoir = 500 # number of recurrent units\n",
    "leak_rate = 0.3 # leaking rate (=1/time_constant_of_neurons)\n",
    "spectral_radius = 1.4 # Scaling of recurrent matrix\n",
    "input_scaling = 1. # Scaling of input matrix\n",
    "proba_non_zero_connec_W = 0.2 # Sparsity of recurrent matrix: Perceptage of non-zero connections in W matrix\n",
    "proba_non_zero_connec_Win = 1. # Sparsity of input matrix\n",
    "proba_non_zero_connec_Wfb = 1. # Sparsity of feedback matrix\n",
    "regularization_coef =  0.01 #None # regularization coefficient, if None, pseudo-inverse is use instead of ridge regression"
   ]
  },
  {
   "cell_type": "code",
   "execution_count": 20,
   "metadata": {},
   "outputs": [],
   "source": [
    "n_inputs = 1\n",
    "input_bias = True # add a constant input to 1\n",
    "n_outputs = 1"
   ]
  },
  {
   "cell_type": "code",
   "execution_count": 21,
   "metadata": {},
   "outputs": [],
   "source": [
    "N = n_reservoir#100\n",
    "dim_inp = n_inputs #26"
   ]
  },
  {
   "cell_type": "markdown",
   "metadata": {},
   "source": [
    "### Generating weights for input and hidden layers "
   ]
  },
  {
   "cell_type": "code",
   "execution_count": 22,
   "metadata": {},
   "outputs": [],
   "source": [
    "### Generating random weight matrices with custom method\n",
    "W = np.random.rand(N,N) - 0.5\n",
    "if input_bias:\n",
    "    Win = np.random.rand(N,dim_inp+1) - 0.5\n",
    "else:\n",
    "    Win = np.random.rand(N,dim_inp) - 0.5\n",
    "Wfb = np.random.rand(N,n_outputs) - 0.5"
   ]
  },
  {
   "cell_type": "code",
   "execution_count": 23,
   "metadata": {},
   "outputs": [],
   "source": [
    "## delete the fraction of connections given the sparsity (i.e. proba of non-zero connections):\n",
    "mask = np.random.rand(N,N) # create a mask Uniform[0;1]\n",
    "W[mask > proba_non_zero_connec_W] = 0 # set to zero some connections given by the mask\n",
    "mask = np.random.rand(N,Win.shape[1])\n",
    "Win[mask > proba_non_zero_connec_Win] = 0\n",
    "# mask = np.random.rand(N,Wfb.shape[1])\n",
    "# Wfb[mask > proba_non_zero_connec_Wfb] = 0"
   ]
  },
  {
   "cell_type": "code",
   "execution_count": 24,
   "metadata": {},
   "outputs": [
    {
     "name": "stdout",
     "output_type": "stream",
     "text": [
      "Computing spectral radius...\n",
      "default spectral radius before scaling: 2.9980673007522713\n",
      "spectral radius after scaling 1.4000000000000035\n"
     ]
    }
   ],
   "source": [
    "## SCALING of matrices\n",
    "# scaling of input matrix\n",
    "Win = Win * input_scaling\n",
    "# scaling of recurrent matrix\n",
    "# compute the spectral radius of these weights:\n",
    "print( 'Computing spectral radius...')\n",
    "original_spectral_radius = np.max(np.abs(np.linalg.eigvals(W)))\n",
    "#TODO: check if this operation is quicker: max(abs(linalg.eig(W)[0])) #from scipy import linalg\n",
    "print( \"default spectral radius before scaling:\", original_spectral_radius)\n",
    "# rescale them to reach the requested spectral radius:\n",
    "W = W * (spectral_radius / original_spectral_radius)\n",
    "print( \"spectral radius after scaling\", np.max(np.abs(np.linalg.eigvals(W))))\n"
   ]
  },
  {
   "cell_type": "markdown",
   "metadata": {},
   "source": [
    "## <span style=\"color:Green\">Input data dimensions</span>"
   ]
  },
  {
   "cell_type": "code",
   "execution_count": 25,
   "metadata": {},
   "outputs": [
    {
     "name": "stdout",
     "output_type": "stream",
     "text": [
      "Dimensions of Training data:  1\n",
      "Dimensions of Testing data:  1\n"
     ]
    }
   ],
   "source": [
    "print('Dimensions of Training data: ', train_in.shape[1])\n",
    "print('Dimensions of Testing data: ', test_in.shape[1])"
   ]
  },
  {
   "cell_type": "markdown",
   "metadata": {},
   "source": [
    "### <span style=\"color:blue\">Pass Parameters to ESN</span>"
   ]
  },
  {
   "cell_type": "code",
   "execution_count": 26,
   "metadata": {},
   "outputs": [],
   "source": [
    "reservoir = ESN.ESN(lr=leak_rate, W=W, Win=Win, input_bias=input_bias, ridge=regularization_coef, Wfb=None, fbfunc=None)"
   ]
  },
  {
   "cell_type": "markdown",
   "metadata": {},
   "source": [
    "## Input data to reservoir model"
   ]
  },
  {
   "cell_type": "code",
   "execution_count": 27,
   "metadata": {},
   "outputs": [],
   "source": [
    "internal_trained = reservoir.train(inputs=[train_in], teachers=[train_out], wash_nr_time_step=initLen, verbose=False)\n",
    "output_pred, internal_pred = reservoir.run(inputs=[test_in,], reset_state=False)\n",
    "errorLen = len(test_out[:]) #testLen #2000"
   ]
  },
  {
   "cell_type": "markdown",
   "metadata": {},
   "source": [
    "## Dimensions of the output data"
   ]
  },
  {
   "cell_type": "code",
   "execution_count": 28,
   "metadata": {},
   "outputs": [
    {
     "name": "stdout",
     "output_type": "stream",
     "text": [
      "Shape of Output data Dimensions:  1\n"
     ]
    }
   ],
   "source": [
    "print('Shape of Output data Dimensions: ', output_pred[0].shape[1])"
   ]
  },
  {
   "cell_type": "markdown",
   "metadata": {},
   "source": [
    "### Create dataframe for predicted values and test values"
   ]
  },
  {
   "cell_type": "code",
   "execution_count": 29,
   "metadata": {},
   "outputs": [],
   "source": [
    "import pandas as pd\n",
    "df_pred = pd.DataFrame(output_pred[0])"
   ]
  },
  {
   "cell_type": "code",
   "execution_count": 30,
   "metadata": {},
   "outputs": [
    {
     "data": {
      "text/plain": [
       "(327, 1)"
      ]
     },
     "execution_count": 30,
     "metadata": {},
     "output_type": "execute_result"
    }
   ],
   "source": [
    "df_pred.shape"
   ]
  },
  {
   "cell_type": "code",
   "execution_count": 31,
   "metadata": {},
   "outputs": [],
   "source": [
    "test_out = pd.DataFrame(test_out)"
   ]
  },
  {
   "cell_type": "code",
   "execution_count": 32,
   "metadata": {},
   "outputs": [
    {
     "data": {
      "text/plain": [
       "(327, 1)"
      ]
     },
     "execution_count": 32,
     "metadata": {},
     "output_type": "execute_result"
    }
   ],
   "source": [
    "test_out.shape"
   ]
  },
  {
   "cell_type": "markdown",
   "metadata": {},
   "source": [
    "### <span style=\"color:blue\">MSE for X</span>"
   ]
  },
  {
   "cell_type": "code",
   "execution_count": 33,
   "metadata": {},
   "outputs": [],
   "source": [
    "## printing errors made on test set\n",
    "# mse = sum( np.square( test_out[:] - output_pred[0] ) ) / errorLen\n",
    "# print( 'MSE = ' + str( mse ))\n",
    "mse_x = np.mean((test_out[0][:] - df_pred[0])**2) # Mean Squared Error: see https://en.wikipedia.org/wiki/Mean_squared_error\n",
    "rmse_x = np.sqrt(mse_x) # Root Mean Squared Error: see https://en.wikipedia.org/wiki/Root-mean-square_deviation for more info\n",
    "nmrse_mean_x = abs(rmse_x / np.mean(test_out[0][:])) # Normalised RMSE (based on mean)\n",
    "nmrse_maxmin_x = rmse_x / abs(np.max(test_out[0][:]) - np.min(test_out[0][:])) # Normalised RMSE (based on max - min)"
   ]
  },
  {
   "cell_type": "code",
   "execution_count": 34,
   "metadata": {},
   "outputs": [
    {
     "name": "stdout",
     "output_type": "stream",
     "text": [
      "\n",
      "**********  MSE and RMSE for Predictions on X  **********\n",
      "Errors computed over 327 time steps\n",
      "\n",
      "Mean Squared error (MSE) for x : \t\t9.1319e-06 \n",
      "Root Mean Squared error (RMSE) for x : \t\t3.0219e-03\n",
      " \n",
      "Normalized RMSE (based on mean) for x : \t3.0874e-03 \n",
      "Normalized RMSE (based on max - min) for x : \t3.8476e-03 \n",
      "*********************************************************\n",
      "\n"
     ]
    }
   ],
   "source": [
    "print(\"\\n**********  MSE and RMSE for Predictions on X  **********\")\n",
    "print(\"Errors computed over %d time steps\" % (errorLen))\n",
    "print(\"\\nMean Squared error (MSE) for x : \\t\\t%.4e \" % (mse_x) )\n",
    "print(\"Root Mean Squared error (RMSE) for x : \\t\\t%.4e\\n \" % rmse_x )\n",
    "print(\"Normalized RMSE (based on mean) for x : \\t%.4e \" % (nmrse_mean_x) )\n",
    "print(\"Normalized RMSE (based on max - min) for x : \\t%.4e \" % (nmrse_maxmin_x) )\n",
    "print(\"*********************************************************\\n\")"
   ]
  },
  {
   "cell_type": "code",
   "execution_count": 35,
   "metadata": {},
   "outputs": [
    {
     "name": "stderr",
     "output_type": "stream",
     "text": [
      "C:\\Users\\INFO-DSK-02\\Anaconda3\\lib\\site-packages\\ipykernel_launcher.py:8: UserWarning: This figure includes Axes that are not compatible with tight_layout, so results might be incorrect.\n",
      "  \n"
     ]
    },
    {
     "data": {
      "image/png": "[encoded data removed]",
      "text/plain": [
       "<Figure size 432x288 with 1 Axes>"
      ]
     },
     "metadata": {
      "needs_background": "light"
     },
     "output_type": "display_data"
    }
   ],
   "source": [
    "fig = plt.figure()\n",
    "ax=fig.add_axes([0,0,1,1])\n",
    "ax.plot(test_out_t,df_pred[0])\n",
    "plt.title('Plot of X_Pred and X_Real with entire data',  fontsize=16)\n",
    "plt.xlabel('T', fontsize = 14)\n",
    "plt.ylabel('X', fontsize = 14)\n",
    "ax.plot(df['t'],df['x'])\n",
    "plt.savefig(r\"C:\\Users\\INFO-DSK-02\\Desktop\\Lorentz Multi Dimension Prediction-Phase-2\\Final_Version\\3D_ReservoirComputing\\images\\Mackey Glass\\X_Pred_X_Real_on Entire_data.png\", bbox_inches = \"tight\")\n",
    "plt.show()"
   ]
  },
  {
   "cell_type": "code",
   "execution_count": 36,
   "metadata": {},
   "outputs": [
    {
     "name": "stderr",
     "output_type": "stream",
     "text": [
      "C:\\Users\\INFO-DSK-02\\Anaconda3\\lib\\site-packages\\ipykernel_launcher.py:8: UserWarning: This figure includes Axes that are not compatible with tight_layout, so results might be incorrect.\n",
      "  \n"
     ]
    },
    {
     "data": {
      "image/png": "[encoded data removed]",
      "text/plain": [
       "<Figure size 432x288 with 1 Axes>"
      ]
     },
     "metadata": {
      "needs_background": "light"
     },
     "output_type": "display_data"
    }
   ],
   "source": [
    "fig = plt.figure()\n",
    "ax=fig.add_axes([0,0,1,1])\n",
    "ax.plot(test_out_t,df_pred[0])\n",
    "plt.title('Plot of X_Pred and X_Real with test data',  fontsize=16)\n",
    "plt.xlabel('T', fontsize = 14)\n",
    "plt.ylabel('X', fontsize = 14)\n",
    "ax.plot(test_out_t,test_out[0])\n",
    "plt.savefig(r\"C:\\Users\\INFO-DSK-02\\Desktop\\Lorentz Multi Dimension Prediction-Phase-2\\Final_Version\\3D_ReservoirComputing\\images\\Mackey Glass\\X_pred_vs_X_Real_with_time_on_Test_Data.png\", bbox_inches = \"tight\")\n",
    "plt.show()"
   ]
  },
  {
   "cell_type": "markdown",
   "metadata": {},
   "source": [
    "# Plotting Local Error from predicted and actual values"
   ]
  },
  {
   "cell_type": "code",
   "execution_count": 37,
   "metadata": {},
   "outputs": [],
   "source": [
    "df_local_error = pd.DataFrame()"
   ]
  },
  {
   "cell_type": "code",
   "execution_count": 38,
   "metadata": {},
   "outputs": [],
   "source": [
    "df_local_error['X_Local_Error'] = test_out[0] - df_pred[0]"
   ]
  },
  {
   "cell_type": "code",
   "execution_count": 39,
   "metadata": {},
   "outputs": [
    {
     "data": {
      "text/html": [
       "<div>\n",
       "<style scoped>\n",
       "    .dataframe tbody tr th:only-of-type {\n",
       "        vertical-align: middle;\n",
       "    }\n",
       "\n",
       "    .dataframe tbody tr th {\n",
       "        vertical-align: top;\n",
       "    }\n",
       "\n",
       "    .dataframe thead th {\n",
       "        text-align: right;\n",
       "    }\n",
       "</style>\n",
       "<table border=\"1\" class=\"dataframe\">\n",
       "  <thead>\n",
       "    <tr style=\"text-align: right;\">\n",
       "      <th></th>\n",
       "      <th>X_Local_Error</th>\n",
       "    </tr>\n",
       "  </thead>\n",
       "  <tbody>\n",
       "    <tr>\n",
       "      <td>count</td>\n",
       "      <td>327.000000</td>\n",
       "    </tr>\n",
       "    <tr>\n",
       "      <td>mean</td>\n",
       "      <td>-0.000374</td>\n",
       "    </tr>\n",
       "    <tr>\n",
       "      <td>std</td>\n",
       "      <td>0.003003</td>\n",
       "    </tr>\n",
       "    <tr>\n",
       "      <td>min</td>\n",
       "      <td>-0.007994</td>\n",
       "    </tr>\n",
       "    <tr>\n",
       "      <td>25%</td>\n",
       "      <td>-0.001837</td>\n",
       "    </tr>\n",
       "    <tr>\n",
       "      <td>50%</td>\n",
       "      <td>-0.000284</td>\n",
       "    </tr>\n",
       "    <tr>\n",
       "      <td>75%</td>\n",
       "      <td>0.000934</td>\n",
       "    </tr>\n",
       "    <tr>\n",
       "      <td>max</td>\n",
       "      <td>0.006038</td>\n",
       "    </tr>\n",
       "  </tbody>\n",
       "</table>\n",
       "</div>"
      ],
      "text/plain": [
       "       X_Local_Error\n",
       "count     327.000000\n",
       "mean       -0.000374\n",
       "std         0.003003\n",
       "min        -0.007994\n",
       "25%        -0.001837\n",
       "50%        -0.000284\n",
       "75%         0.000934\n",
       "max         0.006038"
      ]
     },
     "execution_count": 39,
     "metadata": {},
     "output_type": "execute_result"
    }
   ],
   "source": [
    "df_local_error.describe()"
   ]
  },
  {
   "cell_type": "code",
   "execution_count": 40,
   "metadata": {},
   "outputs": [
    {
     "name": "stderr",
     "output_type": "stream",
     "text": [
      "C:\\Users\\INFO-DSK-02\\Anaconda3\\lib\\site-packages\\ipykernel_launcher.py:7: UserWarning: This figure includes Axes that are not compatible with tight_layout, so results might be incorrect.\n",
      "  import sys\n"
     ]
    },
    {
     "data": {
      "image/png": "[encoded data removed]",
      "text/plain": [
       "<Figure size 432x288 with 1 Axes>"
      ]
     },
     "metadata": {
      "needs_background": "light"
     },
     "output_type": "display_data"
    }
   ],
   "source": [
    "fig = plt.figure()\n",
    "ax=fig.add_axes([0,0,1,1])\n",
    "ax.plot(test_out_t,df_local_error['X_Local_Error'] )\n",
    "plt.title('Plot of X_Local_Error with time steps',  fontsize=16)\n",
    "plt.xlabel('T', fontsize = 14)\n",
    "plt.ylabel('Local Error X', fontsize = 14)\n",
    "plt.savefig(r\"C:\\Users\\INFO-DSK-02\\Desktop\\Lorentz Multi Dimension Prediction-Phase-2\\Final_Version\\3D_ReservoirComputing\\images\\Mackey Glass\\Local_Error_X.png\", bbox_inches = \"tight\")\n",
    "plt.show()"
   ]
  },
  {
   "cell_type": "code",
   "execution_count": 41,
   "metadata": {},
   "outputs": [],
   "source": [
    "df_pred.columns= ['X_pred']"
   ]
  },
  {
   "cell_type": "code",
   "execution_count": 42,
   "metadata": {},
   "outputs": [
    {
     "data": {
      "text/html": [
       "<div>\n",
       "<style scoped>\n",
       "    .dataframe tbody tr th:only-of-type {\n",
       "        vertical-align: middle;\n",
       "    }\n",
       "\n",
       "    .dataframe tbody tr th {\n",
       "        vertical-align: top;\n",
       "    }\n",
       "\n",
       "    .dataframe thead th {\n",
       "        text-align: right;\n",
       "    }\n",
       "</style>\n",
       "<table border=\"1\" class=\"dataframe\">\n",
       "  <thead>\n",
       "    <tr style=\"text-align: right;\">\n",
       "      <th></th>\n",
       "      <th>X_pred</th>\n",
       "    </tr>\n",
       "  </thead>\n",
       "  <tbody>\n",
       "    <tr>\n",
       "      <td>0</td>\n",
       "      <td>1.109942</td>\n",
       "    </tr>\n",
       "    <tr>\n",
       "      <td>1</td>\n",
       "      <td>1.112352</td>\n",
       "    </tr>\n",
       "    <tr>\n",
       "      <td>2</td>\n",
       "      <td>1.114706</td>\n",
       "    </tr>\n",
       "    <tr>\n",
       "      <td>3</td>\n",
       "      <td>1.117005</td>\n",
       "    </tr>\n",
       "    <tr>\n",
       "      <td>4</td>\n",
       "      <td>1.119249</td>\n",
       "    </tr>\n",
       "  </tbody>\n",
       "</table>\n",
       "</div>"
      ],
      "text/plain": [
       "     X_pred\n",
       "0  1.109942\n",
       "1  1.112352\n",
       "2  1.114706\n",
       "3  1.117005\n",
       "4  1.119249"
      ]
     },
     "execution_count": 42,
     "metadata": {},
     "output_type": "execute_result"
    }
   ],
   "source": [
    "df_pred.head()"
   ]
  },
  {
   "cell_type": "code",
   "execution_count": 43,
   "metadata": {},
   "outputs": [],
   "source": [
    "test_out.columns = ['X_test']"
   ]
  },
  {
   "cell_type": "code",
   "execution_count": 44,
   "metadata": {},
   "outputs": [],
   "source": [
    "df_out = pd.concat([df_pred, test_out], axis = 1)"
   ]
  },
  {
   "cell_type": "code",
   "execution_count": 45,
   "metadata": {},
   "outputs": [],
   "source": [
    "df_out['Test_T'] = test_out_t"
   ]
  },
  {
   "cell_type": "code",
   "execution_count": 46,
   "metadata": {},
   "outputs": [],
   "source": [
    "df_out.to_excel(r'C:\\Users\\INFO-DSK-02\\Desktop\\Lorentz Multi Dimension Prediction-Phase-2\\Final_Version\\3D_ReservoirComputing\\Output\\MC_Data\\MG_Output_without_noise.xlsx', index= False)"
   ]
  },
  {
   "cell_type": "code",
   "execution_count": null,
   "metadata": {},
   "outputs": [],
   "source": []
  }
 ],
 "metadata": {
  "kernelspec": {
   "display_name": "Python 3",
   "language": "python",
   "name": "python3"
  },
  "language_info": {
   "codemirror_mode": {
    "name": "ipython",
    "version": 3
   },
   "file_extension": ".py",
   "mimetype": "text/x-python",
   "name": "python",
   "nbconvert_exporter": "python",
   "pygments_lexer": "ipython3",
   "version": "3.7.1"
  }
 },
 "nbformat": 4,
 "nbformat_minor": 2
}
