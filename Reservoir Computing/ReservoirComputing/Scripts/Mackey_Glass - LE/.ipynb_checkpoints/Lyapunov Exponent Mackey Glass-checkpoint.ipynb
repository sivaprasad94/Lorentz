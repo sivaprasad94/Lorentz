{
 "cells": [
  {
   "cell_type": "markdown",
   "metadata": {},
   "source": [
    "## The following method is implemented based on the understanding of the mail and from the documnet. "
   ]
  },
  {
   "cell_type": "code",
   "execution_count": null,
   "metadata": {},
   "outputs": [],
   "source": [
    "import pandas as pd\n",
    "import nolds\n",
    "import numpy as np\n",
    "from math import sqrt"
   ]
  },
  {
   "cell_type": "markdown",
   "metadata": {},
   "source": [
    "### df_without_noise is the set of predicted values from 1500 to 1800 time steps with out adding noise\n",
    "##Step 2: for the previous mail"
   ]
  },
  {
   "cell_type": "code",
   "execution_count": null,
   "metadata": {},
   "outputs": [],
   "source": [
    "df_without_noise =  pd.read_excel(r'C:\\Users\\INFO-DSK-02\\Desktop\\Lorentz Multi Dimension Prediction-Phase-2\\Final_Version\\3D_ReservoirComputing\\Output\\MC_Data\\MG_Output_without_Noise.xlsx', index = False)"
   ]
  },
  {
   "cell_type": "code",
   "execution_count": null,
   "metadata": {},
   "outputs": [],
   "source": [
    "df_without_noise.head()"
   ]
  },
  {
   "cell_type": "markdown",
   "metadata": {},
   "source": [
    "### df_noise is the set of predicted values with noise from 1500 to 1800 "
   ]
  },
  {
   "cell_type": "markdown",
   "metadata": {},
   "source": [
    "Step3 and step4 from the mail"
   ]
  },
  {
   "cell_type": "code",
   "execution_count": null,
   "metadata": {},
   "outputs": [],
   "source": [
    "df_noise =  pd.read_excel(r'C:\\Users\\INFO-DSK-02\\Desktop\\Lorentz Multi Dimension Prediction-Phase-2\\Final_Version\\3D_ReservoirComputing\\Output\\MC_Data\\MG_Output_with_Noise.xlsx', index = False)"
   ]
  },
  {
   "cell_type": "code",
   "execution_count": null,
   "metadata": {},
   "outputs": [],
   "source": [
    "df_without_noise.head()"
   ]
  },
  {
   "cell_type": "markdown",
   "metadata": {},
   "source": [
    "Here we are calculating the difference between noise and with out noise predicted values. The difference is squared and then applied log for each of these values. "
   ]
  },
  {
   "cell_type": "markdown",
   "metadata": {},
   "source": [
    "step 5 from the mail"
   ]
  },
  {
   "cell_type": "code",
   "execution_count": null,
   "metadata": {},
   "outputs": [],
   "source": [
    "x_diff = np.log(np.sqrt((df_noise.X_pred.values- df_without_noise.X_pred.values)**2))\n",
    "time = df_noise['Test_T'].values"
   ]
  },
  {
   "cell_type": "markdown",
   "metadata": {},
   "source": [
    "step : from the mail"
   ]
  },
  {
   "cell_type": "code",
   "execution_count": null,
   "metadata": {},
   "outputs": [],
   "source": [
    "len(time)"
   ]
  },
  {
   "cell_type": "code",
   "execution_count": null,
   "metadata": {},
   "outputs": [],
   "source": [
    "# sample points \n",
    "X = time\n",
    "Y = x_diff\n",
    "\n",
    "# solve for a and b\n",
    "def best_fit(X, Y):\n",
    "\n",
    "    xbar = sum(X)/len(X)\n",
    "    ybar = sum(Y)/len(Y)\n",
    "    n = len(X) # or len(Y)\n",
    "\n",
    "    numer = sum([xi*yi for xi,yi in zip(X, Y)]) - n * xbar * ybar\n",
    "    denum = sum([xi**2 for xi in X]) - n * xbar**2\n",
    "\n",
    "    b = numer / denum\n",
    "    a = ybar - b * xbar\n",
    "\n",
    "    print('best fit line:\\ny = {:.2f} + {:.8f}x'.format(a, b))\n",
    "\n",
    "    return a, b\n",
    "\n",
    "# solution\n",
    "a, b = best_fit(X, Y)\n",
    "#best fit line:\n",
    "#y = 0.80 + 0.92x\n",
    "\n",
    "# plot points and fit line\n",
    "import matplotlib.pyplot as plt\n",
    "plt.scatter(X, Y)\n",
    "yfit = [a + b * xi for xi in X]\n",
    "plt.plot(X, yfit)"
   ]
  },
  {
   "cell_type": "markdown",
   "metadata": {},
   "source": [
    "# L.E. = 0.00047514"
   ]
  },
  {
   "cell_type": "code",
   "execution_count": 2,
   "metadata": {},
   "outputs": [],
   "source": [
    "\"\"\"\n",
    "Lorenz 96 function definitions for scipy.integrate.ode\n",
    "\"\"\"\n",
    "\n",
    "import numpy as np\n",
    "\n",
    "#def l96(t, x, p):\n",
    "#    D = len(x)\n",
    "#    dxdt = np.empty(D)\n",
    "#    for i in range(D):\n",
    "#        dxdt[i] = x[(i-1)%D] * (x[(i+1)%D] - x[(i-2)%D]) - x[i] + p\n",
    "#    return dxdt\n",
    "\n",
    "def l96(t, x, p):\n",
    "    return np.roll(x,1) * (np.roll(x,-1) - np.roll(x,2)) - x + p\n",
    "\n",
    "def l96jac(t, x, p):\n",
    "    D = len(x)\n",
    "    J = np.zeros((D,D), dtype='float')\n",
    "    for i in range(D):\n",
    "        J[i,(i-1)%D] = x[(i+1)%D] - x[(i-2)%D]\n",
    "        J[i,(i+1)%D] = x[(i-1)%D]\n",
    "        J[i,(i-2)%D] = -x[(i-1)%D]\n",
    "        J[i,i] = -1.0\n",
    "    return J"
   ]
  },
  {
   "cell_type": "code",
   "execution_count": 3,
   "metadata": {},
   "outputs": [],
   "source": [
    "\"\"\"\n",
    "Calculate the Lyapunov exponents for a set of ODEs using the method described \n",
    "in Sandri (1996), through the use of the variational matrix.\n",
    "\"\"\"\n",
    "\n",
    "import numpy as np\n",
    "\n",
    "def RK4(f, x, t1, t2, pf, stim=None):\n",
    "    \"\"\"\n",
    "    Fourth-order, 4-step RK routine.\n",
    "    Returns the step, i.e. approximation to the integral.\n",
    "    If x is defined at time t_1, then stim should be an array of\n",
    "    stimulus values at times t_1, (t_1+t_2)/2, and t_2 (i.e. at t1 and t2, as\n",
    "    well as at the midpoint).\n",
    "    Alternatively, stim may be a function pointer.\n",
    "    \"\"\"\n",
    "    tmid = (t1 + t2)/2.0\n",
    "    dt = t2 - t1\n",
    "\n",
    "    if stim is None:\n",
    "        pf_in_1 = pf\n",
    "        pf_in_mid = pf\n",
    "        pf_in_2 = pf\n",
    "    else:\n",
    "        try:\n",
    "            # test if stim is a function\n",
    "            s1 = stim(t1)\n",
    "            s1, smid, s2 = (stim, stim, stim)\n",
    "        except TypeError:\n",
    "            #  otherwise assume stim is an array\n",
    "            s1, smid, s2 = (stim[0], stim[1], stim[2])\n",
    "        pf_in_1 = (pf, s1)\n",
    "        pf_in_mid = (pf, smid)\n",
    "        pf_in_2 = (pf, s2)\n",
    "\n",
    "    K1 = f(t1, x, pf_in_1)\n",
    "    K2 = f(tmid, x + dt*K1/2.0, pf_in_mid)\n",
    "    K3 = f(tmid, x + dt*K2/2.0, pf_in_mid)\n",
    "    K4 = f(t2, x + dt*K3, pf_in_2)\n",
    "\n",
    "    return dt * (K1/2.0 + K2 + K3 + K4/2.0) / 3.0\n",
    "\n",
    "def computeLE(f, fjac, x0, t, p=(), ttrans=None):\n",
    "    \"\"\"\n",
    "    Computes the global Lyapunov exponents for a set of ODEs.\n",
    "    f - ODE function. Must take arguments like f(t, x, p) where x and t are \n",
    "        the state and time *now*, and p is a tuple of parameters. If there are \n",
    "        no model paramters, p should be set to the empty tuple.\n",
    "    x0 - Initial position for calculation. Integration of transients will begin \n",
    "         from this point.\n",
    "    t - Array of times over which to calculate LE.\n",
    "    p - (optional) Tuple of model parameters for f.\n",
    "    fjac - Jacobian of f.\n",
    "    ttrans - (optional) Times over which to integrate transient behavior.\n",
    "             If not specified, assumes trajectory is on the attractor.\n",
    "    method - (optional) Integration method to be used by scipy.integrate.ode.\n",
    "    \"\"\"\n",
    "    D = len(x0)\n",
    "    N = len(t)\n",
    "    if ttrans is not None:\n",
    "        Ntrans = len(ttrans)\n",
    "    dt = t[1] - t[0]\n",
    "\n",
    "    def dPhi_dt(t, Phi, x):\n",
    "        \"\"\" The variational equation \"\"\"\n",
    "        D = len(x)\n",
    "        rPhi = np.reshape(Phi, (D, D))\n",
    "        rdPhi = np.dot(fjac(t, x, p), rPhi)\n",
    "        return rdPhi.flatten()\n",
    "\n",
    "    def dSdt(t, S, p):\n",
    "        \"\"\"\n",
    "        Differential equations for combined state/variational matrix\n",
    "        propagation. This combined state is called S.\n",
    "        \"\"\"\n",
    "        x = S[:D]\n",
    "        Phi = S[D:]\n",
    "        return np.append(f(t,x,p), dPhi_dt(t, Phi, x))\n",
    "\n",
    "    # integrate transient behavior\n",
    "    Phi0 = np.eye(D, dtype=np.float64).flatten()\n",
    "    #S0 = np.append(x0, Phi0)\n",
    "\n",
    "    if ttrans is not None:\n",
    "        print(\"Integrating transient behavior...\")\n",
    "        #Strans = np.zeros((Ntrans, D*(D+1)), dtype=np.float64)\n",
    "        #Strans[0] = S0\n",
    "        xi = x0\n",
    "        for i,(t1,t2) in enumerate(zip(ttrans[:-1], ttrans[1:])):\n",
    "            xip1 = xi + RK4(f, xi, t1, t2, p)\n",
    "            #Strans_temp = Strans[i] + RK4(dSdt, Strans[i], t1, t2, p)\n",
    "            # perform QR decomposition on Phi\n",
    "            #rPhi = np.reshape(Strans_temp[D:], (D, D))\n",
    "            #Q,R = np.linalg.qr(rPhi)\n",
    "            #Strans[i+1] = np.append(Strans_temp[:D], Q.flatten())\n",
    "            xi = xip1\n",
    "        x0 = xi\n",
    "\n",
    "        #S0 = np.append(Strans[-1, :D], Phi0)\n",
    "        #S0 = Strans[-1]\n",
    "\n",
    "    # start LE calculation\n",
    "    LE = np.zeros((N-1, D), dtype=np.float64)\n",
    "    Ssol = np.zeros((N, D*(D+1)), dtype=np.float64)\n",
    "    #Ssol[0] = S0\n",
    "    Ssol[0] = np.append(x0, Phi0)\n",
    "\n",
    "    print(\"Integrating system for LE calculation...\")\n",
    "    for i,(t1,t2) in enumerate(zip(t[:-1], t[1:])):\n",
    "        Ssol_temp = Ssol[i] + RK4(dSdt, Ssol[i], t1, t2, p)\n",
    "        # perform QR decomposition on Phi\n",
    "        rPhi = np.reshape(Ssol_temp[D:], (D, D))\n",
    "        Q,R = np.linalg.qr(rPhi)\n",
    "        Ssol[i+1] = np.append(Ssol_temp[:D], Q.flatten())\n",
    "        LE[i] = np.abs(np.diag(R))\n",
    "\n",
    "    # compute LEs\n",
    "    print(\"Computing LE spectrum...\")\n",
    "    LE = np.cumsum(np.log(LE),axis=0) / np.tile(t[1:],(D,1)).T\n",
    "    return LE"
   ]
  },
  {
   "cell_type": "code",
   "execution_count": 5,
   "metadata": {
    "scrolled": false
   },
   "outputs": [
    {
     "name": "stdout",
     "output_type": "stream",
     "text": [
      "Integrating transient behavior...\n",
      "Integrating system for LE calculation...\n",
      "Computing LE spectrum...\n",
      "[ 1.76884748  1.31018494  0.97276009  0.60334324  0.41143915  0.24945915\n",
      " -0.01288338 -0.16053477 -0.38030121 -0.69102208 -0.85556745 -0.99886108\n",
      " -1.31050739 -1.4744646  -1.91003505 -2.21578758 -2.66585074 -3.40033146\n",
      " -4.41564636 -4.8242409 ]\n"
     ]
    },
    {
     "data": {
      "image/png": "[encoded data removed]",
      "text/plain": [
       "<Figure size 432x288 with 1 Axes>"
      ]
     },
     "metadata": {
      "needs_background": "light"
     },
     "output_type": "display_data"
    },
    {
     "data": {
      "image/png": "[encoded data removed]",
      "text/plain": [
       "<Figure size 432x288 with 1 Axes>"
      ]
     },
     "metadata": {
      "needs_background": "light"
     },
     "output_type": "display_data"
    },
    {
     "data": {
      "image/png": "[encoded data removed]",
      "text/plain": [
       "<Figure size 432x288 with 1 Axes>"
      ]
     },
     "metadata": {
      "needs_background": "light"
     },
     "output_type": "display_data"
    }
   ],
   "source": [
    "\"\"\"\n",
    "Example calculation: Lorenz 96\n",
    "\"\"\"\n",
    "\n",
    "import numpy as np\n",
    "import matplotlib.pyplot as plt\n",
    "\n",
    "plotspec = True\n",
    "\n",
    "D = 20\n",
    "np.random.seed(46895045)\n",
    "x0 = 20.0*(np.random.rand(D) - 0.5)\n",
    "p = 8.17 * np.ones(D)\n",
    "\n",
    "ttrans = np.arange(0.0, 50.0, 0.001)\n",
    "#ttrans = None\n",
    "t = np.arange(0.0, 50.0, 0.001)\n",
    "\n",
    "LE = computeLE(l96, l96jac, x0, t, p, ttrans)\n",
    "print(LE[-1])\n",
    "\n",
    "if plotspec:\n",
    "    # Plot Nplot largest Lyapunov exponents, over time\n",
    "    Nplot = 1\n",
    "    fig,ax = plt.subplots(1,1,sharex=True)\n",
    "    fig.set_tight_layout(True)\n",
    "    colors = ['orangered', 'limegreen', 'dodgerblue', 'mediumorchid']\n",
    "    colors = ['dodgerblue']*Nplot\n",
    "    for i in range(Nplot):\n",
    "        ax.plot(t[1:], LE[:,i], color=colors[i%4], label=r'$\\lambda_{%d}$'%(i+1,), lw=1.2)\n",
    "    ax.set_ylabel(r'$\\lambda$', size=14)\n",
    "    ax.set_xlabel(r'$t$', size=14)\n",
    "    ax.set_title('%d largest Lyapunov exponents'%(Nplot,))\n",
    "\n",
    "#     Plot ALL Lyapunov exponents, over time\n",
    "    Nplot = LE.shape[1]\n",
    "    fig,ax = plt.subplots(1,1,sharex=True)\n",
    "    fig.set_tight_layout(True)\n",
    "    colors = ['orangered', 'limegreen', 'dodgerblue', 'mediumorchid']\n",
    "    colors = ['dodgerblue']*Nplot\n",
    "    for i in range(Nplot):\n",
    "        ax.plot(t[1:], LE[:,i], color=\"dodgerblue\", label=r'$\\lambda_{%d}$'%(i+1,), lw=1.2)\n",
    "    ax.set_ylabel(r'$\\lambda$', size=14)\n",
    "    ax.set_xlabel(r'$t$', size=14)\n",
    "    ax.set_title('All Lyapunov exponents')\n",
    "\n",
    "    # Plot entire spectrum at final time\n",
    "    fig,ax = plt.subplots(1, 1)\n",
    "    fig.set_tight_layout(True)\n",
    "    for l in LE[-1, :]:\n",
    "        ax.axvline(l, lw=2, color=\"dodgerblue\")\n",
    "    ind = np.arange(D) + 1\n",
    "    width = 0.6\n",
    "    ax.bar(ind, LE[-1, :], width=width, align='center', color='dodgerblue')\n",
    "    ax.set_xlim(ind[0] - width/2.0, ind[-1] + width/2.0)\n",
    "    ax.get_yaxis().set_visible(False)\n",
    "    ax.set_xlabel(r\"$\\lambda$\")\n",
    "    ax.set_title(\"LE Spectrum\")\n",
    "\n",
    "    plt.show()\n",
    "\n",
    "# Save the spectrum\n",
    "np.savetxt(\"D20_p8p17_spectrum.dat\", np.sort(LE[-1, :])[::-1])"
   ]
  },
  {
   "cell_type": "code",
   "execution_count": 7,
   "metadata": {},
   "outputs": [
    {
     "name": "stdout",
     "output_type": "stream",
     "text": [
      "best fit line:\n",
      "y = 1.15 + 0.00600408x\n"
     ]
    },
    {
     "data": {
      "text/plain": [
       "[<matplotlib.lines.Line2D at 0x1889dc97a58>]"
      ]
     },
     "execution_count": 7,
     "metadata": {},
     "output_type": "execute_result"
    },
    {
     "data": {
      "image/png": "[encoded data removed]",
      "text/plain": [
       "<Figure size 432x288 with 1 Axes>"
      ]
     },
     "metadata": {
      "needs_background": "light"
     },
     "output_type": "display_data"
    }
   ],
   "source": [
    "# sample points \n",
    "X = t[1:]\n",
    "Y = LE[:,1]\n",
    "\n",
    "# solve for a and b\n",
    "def best_fit(X, Y):\n",
    "\n",
    "    xbar = sum(X)/len(X)\n",
    "    ybar = sum(Y)/len(Y)\n",
    "    n = len(X) # or len(Y)\n",
    "\n",
    "    numer = sum([xi*yi for xi,yi in zip(X, Y)]) - n * xbar * ybar\n",
    "    denum = sum([xi**2 for xi in X]) - n * xbar**2\n",
    "\n",
    "    b = numer / denum\n",
    "    a = ybar - b * xbar\n",
    "\n",
    "    print('best fit line:\\ny = {:.2f} + {:.8f}x'.format(a, b))\n",
    "\n",
    "    return a, b\n",
    "\n",
    "# solution\n",
    "a, b = best_fit(X, Y)\n",
    "#best fit line:\n",
    "#y = 0.80 + 0.92x\n",
    "\n",
    "# plot points and fit line\n",
    "import matplotlib.pyplot as plt\n",
    "plt.scatter(X, Y)\n",
    "yfit = [a + b * xi for xi in X]\n",
    "plt.plot(X, yfit)"
   ]
  },
  {
   "cell_type": "code",
   "execution_count": 8,
   "metadata": {},
   "outputs": [
    {
     "name": "stdout",
     "output_type": "stream",
     "text": [
      "Largest Lyapunov Exponent is : 0.006004079270900285\n"
     ]
    }
   ],
   "source": [
    "print('Largest Lyapunov Exponent is :' ,b )"
   ]
  },
  {
   "cell_type": "code",
   "execution_count": null,
   "metadata": {},
   "outputs": [],
   "source": []
  }
 ],
 "metadata": {
  "kernelspec": {
   "display_name": "Python 3",
   "language": "python",
   "name": "python3"
  },
  "language_info": {
   "codemirror_mode": {
    "name": "ipython",
    "version": 3
   },
   "file_extension": ".py",
   "mimetype": "text/x-python",
   "name": "python",
   "nbconvert_exporter": "python",
   "pygments_lexer": "ipython3",
   "version": "3.7.1"
  }
 },
 "nbformat": 4,
 "nbformat_minor": 2
}
