{
 "cells": [
  {
   "cell_type": "code",
   "execution_count": 44,
   "metadata": {},
   "outputs": [],
   "source": [
    "#function of \n",
    "def lorz(t,x):\n",
    "    xdot=np.zeros(3).reshape(3,1)\n",
    "    sig=10.0\n",
    "    rho=28.0\n",
    "    bet=8.0/3.0\n",
    "    xdot[0]=sig*(x[1]-x[0])\n",
    "    xdot[1] = rho*x[0]-x[1]-x[0]*x[2]\n",
    "    xdot[2] = x[0]*x[1]-bet*x[2]\n",
    "    return (xdot)"
   ]
  },
  {
   "cell_type": "code",
   "execution_count": 5,
   "metadata": {},
   "outputs": [],
   "source": [
    "import pandas as pd\n",
    "df = pd.read_excel(r'C:\\Users\\INFO-DSK-02\\Desktop\\Lorentz\\Lorentz_Requirements_04032020\\Lyapunov Exponent J. C. Sprott\\Input_Data\\lorentz_noise_data_1.xlsx')"
   ]
  },
  {
   "cell_type": "code",
   "execution_count": 41,
   "metadata": {},
   "outputs": [],
   "source": [
    "x = df[['x']]"
   ]
  },
  {
   "cell_type": "code",
   "execution_count": 64,
   "metadata": {},
   "outputs": [],
   "source": [
    "from scipy.integrate import ode\n",
    "\n",
    "\n",
    "import numpy as np\n",
    "import matplotlib.pyplot as plt\n",
    "def lyapunov(funfuc,st, kkmax, x):\n",
    "    funfun = funfuc\n",
    "    n=x.shape[1]\n",
    "    print(n)\n",
    "    ex=np.zeros((n,1))\n",
    "    sum_=np.zeros((n,1))\n",
    "    u=np.identity(n)\n",
    "    print(u.shape)\n",
    "    tinit1=0\n",
    "    for kindex in range(0,kkmax):\n",
    "        xx=[]\n",
    "        tfinal=tinit1+st\n",
    "        print(tfinal)\n",
    "        rs=np.reshape(u,(n*n, 1))\n",
    "        print(rs.shape)\n",
    "        print('x', x.shape)\n",
    "        var=np.concatenate((x,rs), axis=0)\n",
    "        print(var.shape)\n",
    "        #xx=ode(funfnc,[tinit,tfinal],var)\n",
    "        r=ode(lorz).set_integrator('vode', method='adams',\n",
    "                           rtol =1.0e-7,\n",
    "                          with_jacobian=True)\n",
    "        r.set_initial_value(tinit1)\n",
    "        while r.successful() and r.t <= tfinal:\n",
    "            r.integrate(r.t + st)\n",
    "            xx.append(r.y)  \n",
    "            t.append(r.t)\n",
    "        \n",
    "        ss1=xx.shape[0]\n",
    "        ss2=xx.shape[1]\n",
    "        var=xx[ss1,].conj().transpose()\n",
    "        \n",
    "        x=var[0:n]\n",
    "        dx=np.reshape(var[n:len(var)],(n,n))\n",
    "        for i in range(0,n):\n",
    "            v[:,i]=dx[:,i]\n",
    "            for j in range(0,i-1):\n",
    "                dotp=v[:,i].conj().transpose()\n",
    "                v[:,i]=v[:,i]-dotp*u[:,j]\n",
    "            veclen=v[:,i].conj().transpose()*v[:,i]\n",
    "            veclen=math.sqrt(veclen)\n",
    "            u[:,i]=v[:,i]/veclen\n",
    "            sum_[i]=sum_[i]+log(veclen)\n",
    "            ex[kindex,i]=sum_[i]/(kindex*st)\n",
    "        it[kindex]=tfinal\n",
    "        tinit=tfinal\n",
    "    plt.plot(it,ex)\n",
    "    siex=ex.shape\n",
    "    lyap = ex[siex[1],:]\n",
    "    return lyap\n",
    "\n",
    "            \n",
    "                \n",
    "                \n",
    "            \n",
    "            \n",
    "        \n",
    "\n",
    "            \n",
    "        "
   ]
  },
  {
   "cell_type": "code",
   "execution_count": 54,
   "metadata": {},
   "outputs": [
    {
     "data": {
      "text/plain": [
       "(2829, 1)"
      ]
     },
     "execution_count": 54,
     "metadata": {},
     "output_type": "execute_result"
    }
   ],
   "source": [
    "x.shape"
   ]
  },
  {
   "cell_type": "code",
   "execution_count": 66,
   "metadata": {},
   "outputs": [
    {
     "name": "stdout",
     "output_type": "stream",
     "text": [
      "1\n",
      "(1, 1)\n",
      "1\n",
      "(1, 1)\n",
      "x (2829, 1)\n",
      "(2830, 1)\n"
     ]
    },
    {
     "ename": "IndexError",
     "evalue": "index 1 is out of bounds for axis 0 with size 1",
     "output_type": "error",
     "traceback": [
      "\u001b[1;31m---------------------------------------------------------------------------\u001b[0m",
      "\u001b[1;31mIndexError\u001b[0m                                Traceback (most recent call last)",
      "\u001b[1;32m<ipython-input-66-f548fd428022>\u001b[0m in \u001b[0;36m<module>\u001b[1;34m\u001b[0m\n\u001b[1;32m----> 1\u001b[1;33m \u001b[0mlyapunov\u001b[0m\u001b[1;33m(\u001b[0m\u001b[0mlorz\u001b[0m\u001b[1;33m,\u001b[0m\u001b[1;36m1\u001b[0m\u001b[1;33m,\u001b[0m\u001b[1;36m100\u001b[0m\u001b[1;33m,\u001b[0m\u001b[0mx\u001b[0m\u001b[1;33m)\u001b[0m\u001b[1;33m\u001b[0m\u001b[1;33m\u001b[0m\u001b[0m\n\u001b[0m",
      "\u001b[1;32m<ipython-input-64-9443f385c26d>\u001b[0m in \u001b[0;36mlyapunov\u001b[1;34m(funfuc, st, kkmax, x)\u001b[0m\n\u001b[0;32m     28\u001b[0m         \u001b[0mr\u001b[0m\u001b[1;33m.\u001b[0m\u001b[0mset_initial_value\u001b[0m\u001b[1;33m(\u001b[0m\u001b[0mtinit1\u001b[0m\u001b[1;33m)\u001b[0m\u001b[1;33m\u001b[0m\u001b[1;33m\u001b[0m\u001b[0m\n\u001b[0;32m     29\u001b[0m         \u001b[1;32mwhile\u001b[0m \u001b[0mr\u001b[0m\u001b[1;33m.\u001b[0m\u001b[0msuccessful\u001b[0m\u001b[1;33m(\u001b[0m\u001b[1;33m)\u001b[0m \u001b[1;32mand\u001b[0m \u001b[0mr\u001b[0m\u001b[1;33m.\u001b[0m\u001b[0mt\u001b[0m \u001b[1;33m<=\u001b[0m \u001b[0mtfinal\u001b[0m\u001b[1;33m:\u001b[0m\u001b[1;33m\u001b[0m\u001b[1;33m\u001b[0m\u001b[0m\n\u001b[1;32m---> 30\u001b[1;33m             \u001b[0mr\u001b[0m\u001b[1;33m.\u001b[0m\u001b[0mintegrate\u001b[0m\u001b[1;33m(\u001b[0m\u001b[0mr\u001b[0m\u001b[1;33m.\u001b[0m\u001b[0mt\u001b[0m \u001b[1;33m+\u001b[0m \u001b[0mst\u001b[0m\u001b[1;33m)\u001b[0m\u001b[1;33m\u001b[0m\u001b[1;33m\u001b[0m\u001b[0m\n\u001b[0m\u001b[0;32m     31\u001b[0m             \u001b[0mxx\u001b[0m\u001b[1;33m.\u001b[0m\u001b[0mappend\u001b[0m\u001b[1;33m(\u001b[0m\u001b[0mr\u001b[0m\u001b[1;33m.\u001b[0m\u001b[0my\u001b[0m\u001b[1;33m)\u001b[0m\u001b[1;33m\u001b[0m\u001b[1;33m\u001b[0m\u001b[0m\n\u001b[0;32m     32\u001b[0m             \u001b[0mt\u001b[0m\u001b[1;33m.\u001b[0m\u001b[0mappend\u001b[0m\u001b[1;33m(\u001b[0m\u001b[0mr\u001b[0m\u001b[1;33m.\u001b[0m\u001b[0mt\u001b[0m\u001b[1;33m)\u001b[0m\u001b[1;33m\u001b[0m\u001b[1;33m\u001b[0m\u001b[0m\n",
      "\u001b[1;32m~\\Anaconda3\\lib\\site-packages\\scipy\\integrate\\_ode.py\u001b[0m in \u001b[0;36mintegrate\u001b[1;34m(self, t, step, relax)\u001b[0m\n\u001b[0;32m    430\u001b[0m             self._y, self.t = mth(self.f, self.jac or (lambda: None),\n\u001b[0;32m    431\u001b[0m                                   \u001b[0mself\u001b[0m\u001b[1;33m.\u001b[0m\u001b[0m_y\u001b[0m\u001b[1;33m,\u001b[0m \u001b[0mself\u001b[0m\u001b[1;33m.\u001b[0m\u001b[0mt\u001b[0m\u001b[1;33m,\u001b[0m \u001b[0mt\u001b[0m\u001b[1;33m,\u001b[0m\u001b[1;33m\u001b[0m\u001b[1;33m\u001b[0m\u001b[0m\n\u001b[1;32m--> 432\u001b[1;33m                                   self.f_params, self.jac_params)\n\u001b[0m\u001b[0;32m    433\u001b[0m         \u001b[1;32mexcept\u001b[0m \u001b[0mSystemError\u001b[0m\u001b[1;33m:\u001b[0m\u001b[1;33m\u001b[0m\u001b[1;33m\u001b[0m\u001b[0m\n\u001b[0;32m    434\u001b[0m             \u001b[1;31m# f2py issue with tuple returns, see ticket 1187.\u001b[0m\u001b[1;33m\u001b[0m\u001b[1;33m\u001b[0m\u001b[1;33m\u001b[0m\u001b[0m\n",
      "\u001b[1;32m~\\Anaconda3\\lib\\site-packages\\scipy\\integrate\\_ode.py\u001b[0m in \u001b[0;36mrun\u001b[1;34m(self, f, jac, y0, t0, t1, f_params, jac_params)\u001b[0m\n\u001b[0;32m   1002\u001b[0m         args = ((f, jac, y0, t0, t1) + tuple(self.call_args) +\n\u001b[0;32m   1003\u001b[0m                 (f_params, jac_params))\n\u001b[1;32m-> 1004\u001b[1;33m         \u001b[0my1\u001b[0m\u001b[1;33m,\u001b[0m \u001b[0mt\u001b[0m\u001b[1;33m,\u001b[0m \u001b[0mistate\u001b[0m \u001b[1;33m=\u001b[0m \u001b[0mself\u001b[0m\u001b[1;33m.\u001b[0m\u001b[0mrunner\u001b[0m\u001b[1;33m(\u001b[0m\u001b[1;33m*\u001b[0m\u001b[0margs\u001b[0m\u001b[1;33m)\u001b[0m\u001b[1;33m\u001b[0m\u001b[1;33m\u001b[0m\u001b[0m\n\u001b[0m\u001b[0;32m   1005\u001b[0m         \u001b[0mself\u001b[0m\u001b[1;33m.\u001b[0m\u001b[0mistate\u001b[0m \u001b[1;33m=\u001b[0m \u001b[0mistate\u001b[0m\u001b[1;33m\u001b[0m\u001b[1;33m\u001b[0m\u001b[0m\n\u001b[0;32m   1006\u001b[0m         \u001b[1;32mif\u001b[0m \u001b[0mistate\u001b[0m \u001b[1;33m<\u001b[0m \u001b[1;36m0\u001b[0m\u001b[1;33m:\u001b[0m\u001b[1;33m\u001b[0m\u001b[1;33m\u001b[0m\u001b[0m\n",
      "\u001b[1;32m<ipython-input-44-5b9a0e37d396>\u001b[0m in \u001b[0;36mlorz\u001b[1;34m(t, x)\u001b[0m\n\u001b[0;32m      5\u001b[0m     \u001b[0mrho\u001b[0m\u001b[1;33m=\u001b[0m\u001b[1;36m28.0\u001b[0m\u001b[1;33m\u001b[0m\u001b[1;33m\u001b[0m\u001b[0m\n\u001b[0;32m      6\u001b[0m     \u001b[0mbet\u001b[0m\u001b[1;33m=\u001b[0m\u001b[1;36m8.0\u001b[0m\u001b[1;33m/\u001b[0m\u001b[1;36m3.0\u001b[0m\u001b[1;33m\u001b[0m\u001b[1;33m\u001b[0m\u001b[0m\n\u001b[1;32m----> 7\u001b[1;33m     \u001b[0mxdot\u001b[0m\u001b[1;33m[\u001b[0m\u001b[1;36m0\u001b[0m\u001b[1;33m]\u001b[0m\u001b[1;33m=\u001b[0m\u001b[0msig\u001b[0m\u001b[1;33m*\u001b[0m\u001b[1;33m(\u001b[0m\u001b[0mx\u001b[0m\u001b[1;33m[\u001b[0m\u001b[1;36m1\u001b[0m\u001b[1;33m]\u001b[0m\u001b[1;33m-\u001b[0m\u001b[0mx\u001b[0m\u001b[1;33m[\u001b[0m\u001b[1;36m0\u001b[0m\u001b[1;33m]\u001b[0m\u001b[1;33m)\u001b[0m\u001b[1;33m\u001b[0m\u001b[1;33m\u001b[0m\u001b[0m\n\u001b[0m\u001b[0;32m      8\u001b[0m     \u001b[0mxdot\u001b[0m\u001b[1;33m[\u001b[0m\u001b[1;36m1\u001b[0m\u001b[1;33m]\u001b[0m \u001b[1;33m=\u001b[0m \u001b[0mrho\u001b[0m\u001b[1;33m*\u001b[0m\u001b[0mx\u001b[0m\u001b[1;33m[\u001b[0m\u001b[1;36m0\u001b[0m\u001b[1;33m]\u001b[0m\u001b[1;33m-\u001b[0m\u001b[0mx\u001b[0m\u001b[1;33m[\u001b[0m\u001b[1;36m1\u001b[0m\u001b[1;33m]\u001b[0m\u001b[1;33m-\u001b[0m\u001b[0mx\u001b[0m\u001b[1;33m[\u001b[0m\u001b[1;36m0\u001b[0m\u001b[1;33m]\u001b[0m\u001b[1;33m*\u001b[0m\u001b[0mx\u001b[0m\u001b[1;33m[\u001b[0m\u001b[1;36m2\u001b[0m\u001b[1;33m]\u001b[0m\u001b[1;33m\u001b[0m\u001b[1;33m\u001b[0m\u001b[0m\n\u001b[0;32m      9\u001b[0m     \u001b[0mxdot\u001b[0m\u001b[1;33m[\u001b[0m\u001b[1;36m2\u001b[0m\u001b[1;33m]\u001b[0m \u001b[1;33m=\u001b[0m \u001b[0mx\u001b[0m\u001b[1;33m[\u001b[0m\u001b[1;36m0\u001b[0m\u001b[1;33m]\u001b[0m\u001b[1;33m*\u001b[0m\u001b[0mx\u001b[0m\u001b[1;33m[\u001b[0m\u001b[1;36m1\u001b[0m\u001b[1;33m]\u001b[0m\u001b[1;33m-\u001b[0m\u001b[0mbet\u001b[0m\u001b[1;33m*\u001b[0m\u001b[0mx\u001b[0m\u001b[1;33m[\u001b[0m\u001b[1;36m2\u001b[0m\u001b[1;33m]\u001b[0m\u001b[1;33m\u001b[0m\u001b[1;33m\u001b[0m\u001b[0m\n",
      "\u001b[1;31mIndexError\u001b[0m: index 1 is out of bounds for axis 0 with size 1"
     ]
    }
   ],
   "source": [
    "lyapunov(lorz,1,100,x)"
   ]
  },
  {
   "cell_type": "code",
   "execution_count": null,
   "metadata": {},
   "outputs": [],
   "source": []
  },
  {
   "cell_type": "code",
   "execution_count": null,
   "metadata": {},
   "outputs": [],
   "source": []
  },
  {
   "cell_type": "code",
   "execution_count": null,
   "metadata": {},
   "outputs": [],
   "source": []
  },
  {
   "cell_type": "code",
   "execution_count": null,
   "metadata": {},
   "outputs": [],
   "source": []
  },
  {
   "cell_type": "code",
   "execution_count": null,
   "metadata": {},
   "outputs": [],
   "source": [
    "veclen=v(:,i)'*v(:,i);\n",
    "veclen=sqrt(veclen);\n",
    "u(:,i)=v(:,i)/veclen;"
   ]
  },
  {
   "cell_type": "code",
   "execution_count": null,
   "metadata": {},
   "outputs": [],
   "source": [
    "for j=1:i-1\n",
    "        dotp=v(:,i)'*u(:,j);\n",
    "        v(:,i)=v(:,i)-dotp*u(:,j);"
   ]
  },
  {
   "cell_type": "code",
   "execution_count": null,
   "metadata": {},
   "outputs": [],
   "source": [
    "dx=reshape(var(n+1:length(var)),n,n);"
   ]
  },
  {
   "cell_type": "code",
   "execution_count": 5,
   "metadata": {},
   "outputs": [
    {
     "data": {
      "text/plain": [
       "array([[1.],\n",
       "       [0.],\n",
       "       [0.],\n",
       "       [0.],\n",
       "       [0.],\n",
       "       [1.],\n",
       "       [0.],\n",
       "       [0.],\n",
       "       [0.],\n",
       "       [0.],\n",
       "       [1.],\n",
       "       [0.],\n",
       "       [0.],\n",
       "       [0.],\n",
       "       [0.],\n",
       "       [1.]])"
      ]
     },
     "execution_count": 5,
     "metadata": {},
     "output_type": "execute_result"
    }
   ],
   "source": [
    "n=4\n",
    "u=np.identity(n)\n",
    "\n",
    "np.reshape(u,(n*n, 1))"
   ]
  },
  {
   "cell_type": "code",
   "execution_count": null,
   "metadata": {},
   "outputs": [],
   "source": [
    "var=[x;reshape(u,n*n,1)]"
   ]
  },
  {
   "cell_type": "code",
   "execution_count": null,
   "metadata": {},
   "outputs": [],
   "source": [
    "ex=zeros(n,1);\n",
    "sum=zeros(n,1);"
   ]
  },
  {
   "cell_type": "code",
   "execution_count": null,
   "metadata": {},
   "outputs": [],
   "source": []
  },
  {
   "cell_type": "code",
   "execution_count": null,
   "metadata": {},
   "outputs": [],
   "source": []
  },
  {
   "cell_type": "code",
   "execution_count": null,
   "metadata": {},
   "outputs": [],
   "source": []
  },
  {
   "cell_type": "code",
   "execution_count": null,
   "metadata": {},
   "outputs": [],
   "source": []
  },
  {
   "cell_type": "code",
   "execution_count": null,
   "metadata": {},
   "outputs": [],
   "source": []
  },
  {
   "cell_type": "code",
   "execution_count": null,
   "metadata": {},
   "outputs": [],
   "source": []
  },
  {
   "cell_type": "code",
   "execution_count": null,
   "metadata": {},
   "outputs": [],
   "source": []
  },
  {
   "cell_type": "code",
   "execution_count": null,
   "metadata": {},
   "outputs": [],
   "source": [
    "%Calculate largest Lyapunov exponent from ODE directly.\n",
    "%Algorithm is based on Alan Wolf, 1985.\n",
    "\n",
    "%By Xiaowei Huai\n",
    "%2015/5/28\n",
    "%------------------------------------------------------------\n",
    "\n",
    "%Spin-up to accquire post-transient initial condition\n",
    "\n",
    "from scipy.integrate import ode\n",
    "\n",
    "\n",
    "\n",
    "[~,yspin] = ode45(@lorenz63,1:0.01:50,[1,1,1]);\n",
    "\n",
    "\n",
    "\n",
    "yinit = yspin(length(yspin),:);\n",
    "orthmatrix = eye(3);\n",
    "\n",
    "\n",
    "% orthmatrix = [1 0 0;\n",
    "%               0 1 0;\n",
    "%               0 0 1];\n",
    "y = zeros(12,1);\n",
    "y(1:3) = yinit;\n",
    "y(4:12) = orthmatrix;\n",
    "\n",
    "tstart = 0; % 时间初始值\n",
    "%tstep = 1e-6; % 时间步长\n",
    "%wholetimes = 1e6; % 总的循环次数\n",
    "%steps = 1000; % 每次演化的步数\n",
    "%iteratetimes = wholetimes/steps; % 演化的次数\n",
    "iteratetimes = 500;\n",
    "tincre = 1.0;\n",
    "sum = zeros(3,1);\n",
    "\n",
    "% 初始化三个Lyapunov指数\n",
    "expo = zeros(iteratetimes,3);\n",
    "\n",
    "for i=1:iteratetimes\n",
    "    %tend = tstart + tstep*steps;\n",
    "    %tspan = tstart:tstep:tend;   \n",
    "    tend = tstart + tincre;\n",
    "    [~,Y] = ode45(@lorenz_ode,[tstart,tend], y);\n",
    "\n",
    "    % 取积分得到的最后一个时刻的值\n",
    "    y = Y(size(Y,1),:);\n",
    "    % 重新定义起始时刻\n",
    "    tstart = tend;\n",
    "    y0 = [y(4) y(7) y(10);\n",
    "          y(5) y(8) y(11);\n",
    "          y(6) y(9) y(12)];\n",
    "    %正交化\n",
    "    [y0,znorm] = GS(y0);\n",
    "    sum = sum + log(znorm);\n",
    "    y(4:12) = y0;\n",
    "\n",
    "    %三个Lyapunov指数\n",
    "    for j=1:3\n",
    "        expo(i,j) = sum(j)/tstart;\n",
    "    end\n",
    "end\n",
    "\n",
    "lyap = expo(length(expo),:);\n",
    "disp(lyap)\n",
    "%In this frame, Lyapunov exponents will be  0.9065   -0.0023  -14.5036.\n",
    "\n",
    "%   作Lyapunov指数谱图\n",
    "i = 1:iteratetimes;\n",
    "plot(i,expo(:,1),'r-',i,expo(:,2),'g-',i,expo(:,3),'b-','LineWidth',1.5)\n",
    "xlabel('\\fontsize{14}Time');ylabel('\\fontsize{14}Lyapunov Exponents')\n",
    "legend('\\lambda_1','\\lambda_2','\\lambda_3','Location','Best')\n",
    "legend('boxoff')\n",
    "print(gcf,'-dpng','LyapExpoSpectrum.png')"
   ]
  }
 ],
 "metadata": {
  "kernelspec": {
   "display_name": "Python 3",
   "language": "python",
   "name": "python3"
  },
  "language_info": {
   "codemirror_mode": {
    "name": "ipython",
    "version": 3
   },
   "file_extension": ".py",
   "mimetype": "text/x-python",
   "name": "python",
   "nbconvert_exporter": "python",
   "pygments_lexer": "ipython3",
   "version": "3.7.1"
  }
 },
 "nbformat": 4,
 "nbformat_minor": 2
}
