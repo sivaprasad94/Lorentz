{
 "cells": [
  {
   "cell_type": "code",
   "execution_count": 44,
   "metadata": {},
   "outputs": [],
   "source": [
    "#function of \n",
    "def lorz(t,x):\n",
    "    xdot=np.zeros(3).reshape(3,1)\n",
    "    sig=10.0\n",
    "    rho=28.0\n",
    "    bet=8.0/3.0\n",
    "    xdot[0]=sig*(x[1]-x[0])\n",
    "    xdot[1] = rho*x[0]-x[1]-x[0]*x[2]\n",
    "    xdot[2] = x[0]*x[1]-bet*x[2]\n",
    "    return (xdot)"
   ]
  },
  {
   "cell_type": "code",
   "execution_count": 5,
   "metadata": {},
   "outputs": [],
   "source": [
    "import pandas as pd\n",
    "df = pd.read_excel(r'C:\\Users\\INFO-DSK-02\\Desktop\\Lorentz\\Lorentz_Requirements_04032020\\Lyapunov Exponent J. C. Sprott\\Input_Data\\lorentz_noise_data_1.xlsx')"
   ]
  },
  {
   "cell_type": "code",
   "execution_count": 41,
   "metadata": {},
   "outputs": [],
   "source": [
    "x = df[['x']]"
   ]
  },
  {
   "cell_type": "code",
   "execution_count": 53,
   "metadata": {},
   "outputs": [],
   "source": [
    "from scipy.integrate import ode\n",
    "\n",
    "\n",
    "import numpy as np\n",
    "import matplotlib.pyplot as plt\n",
    "def lyapunov(funfuc,st, kkmax, x):\n",
    "    funfun = funfuc\n",
    "    n=x.shape[1]\n",
    "    print(n)\n",
    "    ex=np.zeros((n,1))\n",
    "    sum_=np.zeros((n,1))\n",
    "    u=np.identity(n)\n",
    "    print(u.shape)\n",
    "    tinit=0\n",
    "    for kindex in range(0,kkmax):\n",
    "        xx=[]\n",
    "        tfinal=tinit+st\n",
    "        print(tfinal)\n",
    "        rs=np.reshape(u,(n*n, 1))\n",
    "        print(rs.shape)\n",
    "        print('x', x.shape)\n",
    "        var=np.concatenate((x,rs), axis=0)\n",
    "        print(var.shape)\n",
    "        #xx=ode(funfnc,[tinit,tfinal],var)\n",
    "        r=ode(lorz).set_integrator('vode', method='adams',\n",
    "                           rtol =1.0e-7,\n",
    "                          with_jacobian=True)\n",
    "        r.set_initial_value(tinit)\n",
    "        while r.successful() and r.tinit <= tfinal:\n",
    "            r.integrate(r.t + st)\n",
    "            xx.append(r.y)  \n",
    "            t.append(r.t)\n",
    "        \n",
    "        ss1=xx.shape[0]\n",
    "        ss2=xx.shape[1]\n",
    "        var=xx[ss1,].conj().transpose()\n",
    "        \n",
    "        x=var[0:n]\n",
    "        dx=np.reshape(var[n:len(var)],(n,n))\n",
    "        for i in range(0,n):\n",
    "            v[:,i]=dx[:,i]\n",
    "            for j in range(0,i-1):\n",
    "                dotp=v[:,i].conj().transpose()\n",
    "                v[:,i]=v[:,i]-dotp*u[:,j]\n",
    "            veclen=v[:,i].conj().transpose()*v[:,i]\n",
    "            veclen=math.sqrt(veclen)\n",
    "            u[:,i]=v[:,i]/veclen\n",
    "            sum_[i]=sum_[i]+log(veclen)\n",
    "            ex[kindex,i]=sum_[i]/(kindex*st)\n",
    "        it[kindex]=tfinal\n",
    "        tinit=tfinal\n",
    "    plt.plot(it,ex)\n",
    "    siex=ex.shape\n",
    "    lyap = ex[siex[1],:]\n",
    "    return lyap\n",
    "\n",
    "            \n",
    "                \n",
    "                \n",
    "            \n",
    "            \n",
    "        \n",
    "\n",
    "            \n",
    "        "
   ]
  },
  {
   "cell_type": "code",
   "execution_count": 54,
   "metadata": {},
   "outputs": [
    {
     "data": {
      "text/plain": [
       "(2829, 1)"
      ]
     },
     "execution_count": 54,
     "metadata": {},
     "output_type": "execute_result"
    }
   ],
   "source": [
    "x.shape"
   ]
  },
  {
   "cell_type": "code",
   "execution_count": 55,
   "metadata": {},
   "outputs": [
    {
     "name": "stdout",
     "output_type": "stream",
     "text": [
      "1\n",
      "(1, 1)\n",
      "10\n",
      "(1, 1)\n",
      "x (2829, 1)\n",
      "(2830, 1)\n"
     ]
    },
    {
     "ename": "AttributeError",
     "evalue": "'ode' object has no attribute 'tinit'",
     "output_type": "error",
     "traceback": [
      "\u001b[1;31m---------------------------------------------------------------------------\u001b[0m",
      "\u001b[1;31mAttributeError\u001b[0m                            Traceback (most recent call last)",
      "\u001b[1;32m<ipython-input-55-35605a2015e0>\u001b[0m in \u001b[0;36m<module>\u001b[1;34m\u001b[0m\n\u001b[1;32m----> 1\u001b[1;33m \u001b[0mlyapunov\u001b[0m\u001b[1;33m(\u001b[0m\u001b[0mlorz\u001b[0m\u001b[1;33m,\u001b[0m\u001b[1;36m10\u001b[0m\u001b[1;33m,\u001b[0m\u001b[1;36m100\u001b[0m\u001b[1;33m,\u001b[0m\u001b[0mx\u001b[0m\u001b[1;33m)\u001b[0m\u001b[1;33m\u001b[0m\u001b[1;33m\u001b[0m\u001b[0m\n\u001b[0m",
      "\u001b[1;32m<ipython-input-53-d4c11ba4d4de>\u001b[0m in \u001b[0;36mlyapunov\u001b[1;34m(funfuc, st, kkmax, x)\u001b[0m\n\u001b[0;32m     27\u001b[0m                           with_jacobian=True)\n\u001b[0;32m     28\u001b[0m         \u001b[0mr\u001b[0m\u001b[1;33m.\u001b[0m\u001b[0mset_initial_value\u001b[0m\u001b[1;33m(\u001b[0m\u001b[0mtinit\u001b[0m\u001b[1;33m)\u001b[0m\u001b[1;33m\u001b[0m\u001b[1;33m\u001b[0m\u001b[0m\n\u001b[1;32m---> 29\u001b[1;33m         \u001b[1;32mwhile\u001b[0m \u001b[0mr\u001b[0m\u001b[1;33m.\u001b[0m\u001b[0msuccessful\u001b[0m\u001b[1;33m(\u001b[0m\u001b[1;33m)\u001b[0m \u001b[1;32mand\u001b[0m \u001b[0mr\u001b[0m\u001b[1;33m.\u001b[0m\u001b[0mtinit\u001b[0m \u001b[1;33m<=\u001b[0m \u001b[0mtfinal\u001b[0m\u001b[1;33m:\u001b[0m\u001b[1;33m\u001b[0m\u001b[1;33m\u001b[0m\u001b[0m\n\u001b[0m\u001b[0;32m     30\u001b[0m             \u001b[0mr\u001b[0m\u001b[1;33m.\u001b[0m\u001b[0mintegrate\u001b[0m\u001b[1;33m(\u001b[0m\u001b[0mr\u001b[0m\u001b[1;33m.\u001b[0m\u001b[0mt\u001b[0m \u001b[1;33m+\u001b[0m \u001b[0mst\u001b[0m\u001b[1;33m)\u001b[0m\u001b[1;33m\u001b[0m\u001b[1;33m\u001b[0m\u001b[0m\n\u001b[0;32m     31\u001b[0m             \u001b[0mxx\u001b[0m\u001b[1;33m.\u001b[0m\u001b[0mappend\u001b[0m\u001b[1;33m(\u001b[0m\u001b[0mr\u001b[0m\u001b[1;33m.\u001b[0m\u001b[0my\u001b[0m\u001b[1;33m)\u001b[0m\u001b[1;33m\u001b[0m\u001b[1;33m\u001b[0m\u001b[0m\n",
      "\u001b[1;31mAttributeError\u001b[0m: 'ode' object has no attribute 'tinit'"
     ]
    }
   ],
   "source": [
    "lyapunov(lorz,10,100,x)"
   ]
  },
  {
   "cell_type": "code",
   "execution_count": null,
   "metadata": {},
   "outputs": [],
   "source": []
  },
  {
   "cell_type": "code",
   "execution_count": null,
   "metadata": {},
   "outputs": [],
   "source": []
  },
  {
   "cell_type": "code",
   "execution_count": null,
   "metadata": {},
   "outputs": [],
   "source": []
  },
  {
   "cell_type": "code",
   "execution_count": null,
   "metadata": {},
   "outputs": [],
   "source": []
  },
  {
   "cell_type": "code",
   "execution_count": null,
   "metadata": {},
   "outputs": [],
   "source": [
    "veclen=v(:,i)'*v(:,i);\n",
    "veclen=sqrt(veclen);\n",
    "u(:,i)=v(:,i)/veclen;"
   ]
  },
  {
   "cell_type": "code",
   "execution_count": null,
   "metadata": {},
   "outputs": [],
   "source": [
    "for j=1:i-1\n",
    "        dotp=v(:,i)'*u(:,j);\n",
    "        v(:,i)=v(:,i)-dotp*u(:,j);"
   ]
  },
  {
   "cell_type": "code",
   "execution_count": null,
   "metadata": {},
   "outputs": [],
   "source": [
    "dx=reshape(var(n+1:length(var)),n,n);"
   ]
  },
  {
   "cell_type": "code",
   "execution_count": 5,
   "metadata": {},
   "outputs": [
    {
     "data": {
      "text/plain": [
       "array([[1.],\n",
       "       [0.],\n",
       "       [0.],\n",
       "       [0.],\n",
       "       [0.],\n",
       "       [1.],\n",
       "       [0.],\n",
       "       [0.],\n",
       "       [0.],\n",
       "       [0.],\n",
       "       [1.],\n",
       "       [0.],\n",
       "       [0.],\n",
       "       [0.],\n",
       "       [0.],\n",
       "       [1.]])"
      ]
     },
     "execution_count": 5,
     "metadata": {},
     "output_type": "execute_result"
    }
   ],
   "source": [
    "n=4\n",
    "u=np.identity(n)\n",
    "\n",
    "np.reshape(u,(n*n, 1))"
   ]
  },
  {
   "cell_type": "code",
   "execution_count": null,
   "metadata": {},
   "outputs": [],
   "source": [
    "var=[x;reshape(u,n*n,1)]"
   ]
  },
  {
   "cell_type": "code",
   "execution_count": null,
   "metadata": {},
   "outputs": [],
   "source": [
    "ex=zeros(n,1);\n",
    "sum=zeros(n,1);"
   ]
  }
 ],
 "metadata": {
  "kernelspec": {
   "display_name": "Python 3",
   "language": "python",
   "name": "python3"
  },
  "language_info": {
   "codemirror_mode": {
    "name": "ipython",
    "version": 3
   },
   "file_extension": ".py",
   "mimetype": "text/x-python",
   "name": "python",
   "nbconvert_exporter": "python",
   "pygments_lexer": "ipython3",
   "version": "3.7.1"
  }
 },
 "nbformat": 4,
 "nbformat_minor": 2
}
