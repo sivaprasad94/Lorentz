{
 "cells": [
  {
   "cell_type": "code",
   "execution_count": 1,
   "metadata": {},
   "outputs": [],
   "source": [
    "import numpy as np\n",
    "from scipy.integrate import odeint\n",
    "import matplotlib.pyplot as plt\n",
    "from mpl_toolkits.mplot3d import Axes3D\n",
    "import math"
   ]
  },
  {
   "cell_type": "code",
   "execution_count": 2,
   "metadata": {},
   "outputs": [],
   "source": [
    "def evolveSystem(system, times, t, dt):\n",
    "    for i in range(times):\n",
    "        evolve(system, t, dt)"
   ]
  },
  {
   "cell_type": "code",
   "execution_count": 3,
   "metadata": {},
   "outputs": [],
   "source": [
    "def getTestPoint(system, d0):\n",
    "    testPoint= []\n",
    "    print(system)\n",
    "    denom = math.sqrt(len(x))\n",
    "    x = system\n",
    "    for i in range(len(x)):\n",
    "        testPoint.append( x[i] + d0/denom)\n",
    "    return testPoint"
   ]
  },
  {
   "cell_type": "code",
   "execution_count": 6,
   "metadata": {},
   "outputs": [],
   "source": [
    "#Lorentz_solver\n",
    "tmax, n = 50, 2829\n",
    "t = np.linspace(0, tmax, n)\n",
    "def lorenz(X, t, sigma, beta, rho):\n",
    "    \"\"\"The Lorenz equations.\"\"\"\n",
    "    u, v, w = X\n",
    "    up = -sigma*(u - v)\n",
    "    vp = rho*u - v - u*w\n",
    "    wp = -beta*w + u*v\n",
    "    return up, vp, wp"
   ]
  },
  {
   "cell_type": "code",
   "execution_count": 7,
   "metadata": {},
   "outputs": [],
   "source": [
    "def evolveOther():\n",
    "    X2 = odeint(lorenz, ( 0.1, 1.2, 1.2), t, args=(10.0, 28.0, 8.0/3.0)) \n",
    "    x2, y2, z2 = X2.T\n",
    "    return np.array(x2), np.array(y2), np.array(z2) "
   ]
  },
  {
   "cell_type": "code",
   "execution_count": 8,
   "metadata": {},
   "outputs": [],
   "source": [
    "def evolve():\n",
    "    X1 = odeint(lorenz, ( 0.1 + 10e-5, 1.2+10e-7, 1.2+ 10e-6), t, args=(10.0, 28.0, 8.0/3.0))     \n",
    "    x1, y1, z1 = X1.T\n",
    "    return  np.array(x1), np.array(y1), np.array(z1)"
   ]
  },
  {
   "cell_type": "code",
   "execution_count": 9,
   "metadata": {},
   "outputs": [],
   "source": [
    "def isUnbounded(x):\n",
    "    absSum = 0.0\n",
    "    print(x)\n",
    "    for i in range(len(x)):\n",
    "        absSum += abs(x[i])\n",
    "    print(absSum)\n",
    "    if absSum >= 10e6:\n",
    "        return True\n",
    "    else:\n",
    "        return False"
   ]
  },
  {
   "cell_type": "code",
   "execution_count": 18,
   "metadata": {},
   "outputs": [],
   "source": [
    "from tqdm import tqdm\n",
    "def computeLLE():\n",
    "    d0 = 10e-8\n",
    "    #evolveSystem()\n",
    "    #testPoint = getTestPoint(system,d0)\n",
    "    #x = system\n",
    "    d1 = 0.0\n",
    "    l = 0.0\n",
    "    for i in tqdm(range(64100)):\n",
    "        tx1, ty1, tz1  = evolveOther()\n",
    "        x2, y2, z2 = evolve()\n",
    "#         if (isUnbounded(x)):\n",
    "        d1 = sum(((tx1 - x2)**2 + (ty1 - y2)**2 + (tz1 - z2)**2 )**(0.5))/len(tx1)\n",
    "        for j in range(len(x2)):\n",
    "            tx1[j] = x2[j] + (d0/d1)*(tx1[j] - x2[j])\n",
    "            ty1[j] = y2[j] + (d0/d1)*(ty1[j] - y2[j])\n",
    "            tz1[j] = z2[j] + (d0/d1)*(tz1[j] - z2[j])\n",
    "            \n",
    "        if i >100:\n",
    "            l = l + math.log(d1/d0)\n",
    "    return l/63999*(0.01768033946251768)"
   ]
  },
  {
   "cell_type": "code",
   "execution_count": 19,
   "metadata": {},
   "outputs": [
    {
     "name": "stderr",
     "output_type": "stream",
     "text": [
      "100%|████████████████████████████████████████████████████████████████████████████| 64100/64100 [18:58<00:00, 56.31it/s]\n"
     ]
    },
    {
     "data": {
      "text/plain": [
       "0.05598038448295304"
      ]
     },
     "execution_count": 19,
     "metadata": {},
     "output_type": "execute_result"
    }
   ],
   "source": [
    "computeLLE()"
   ]
  },
  {
   "cell_type": "code",
   "execution_count": null,
   "metadata": {},
   "outputs": [],
   "source": [
    "math.log(d1/d0)"
   ]
  },
  {
   "cell_type": "code",
   "execution_count": null,
   "metadata": {},
   "outputs": [],
   "source": [
    "x,y,z = evolveOther()"
   ]
  },
  {
   "cell_type": "code",
   "execution_count": null,
   "metadata": {},
   "outputs": [],
   "source": [
    "x,y,z"
   ]
  },
  {
   "cell_type": "code",
   "execution_count": null,
   "metadata": {},
   "outputs": [],
   "source": []
  },
  {
   "cell_type": "code",
   "execution_count": null,
   "metadata": {},
   "outputs": [],
   "source": []
  },
  {
   "cell_type": "code",
   "execution_count": null,
   "metadata": {},
   "outputs": [],
   "source": []
  },
  {
   "cell_type": "code",
   "execution_count": null,
   "metadata": {},
   "outputs": [],
   "source": []
  },
  {
   "cell_type": "code",
   "execution_count": null,
   "metadata": {},
   "outputs": [],
   "source": []
  },
  {
   "cell_type": "code",
   "execution_count": null,
   "metadata": {},
   "outputs": [],
   "source": []
  },
  {
   "cell_type": "code",
   "execution_count": null,
   "metadata": {},
   "outputs": [],
   "source": []
  },
  {
   "cell_type": "code",
   "execution_count": null,
   "metadata": {},
   "outputs": [],
   "source": []
  },
  {
   "cell_type": "code",
   "execution_count": null,
   "metadata": {},
   "outputs": [],
   "source": []
  },
  {
   "cell_type": "code",
   "execution_count": null,
   "metadata": {},
   "outputs": [],
   "source": []
  },
  {
   "cell_type": "code",
   "execution_count": null,
   "metadata": {},
   "outputs": [],
   "source": []
  },
  {
   "cell_type": "code",
   "execution_count": null,
   "metadata": {},
   "outputs": [],
   "source": []
  },
  {
   "cell_type": "code",
   "execution_count": null,
   "metadata": {},
   "outputs": [],
   "source": []
  },
  {
   "cell_type": "code",
   "execution_count": null,
   "metadata": {},
   "outputs": [],
   "source": [
    "# Create an image of the Lorenz attractor.\n",
    "# The maths behind this code is described in the scipython blog article\n",
    "# at https://scipython.com/blog/the-lorenz-attractor/\n",
    "# Christian Hill, January 2016.\n",
    "\n",
    "# Lorenz paramters and initial conditions\n",
    "sigma, beta, rho = 10, (8.00/3.00), 28\n",
    "u0, v0, w0 = 0.1, 1.2, 1.2"
   ]
  },
  {
   "cell_type": "code",
   "execution_count": null,
   "metadata": {},
   "outputs": [],
   "source": [
    "#function of \n",
    "def computeDerivatives(t,x):\n",
    "    xdot=np.zeros(3).reshape(3,1)\n",
    "    sig=10.0\n",
    "    rho=28.0\n",
    "    bet=8.0/3.0\n",
    "    xdot[0]=sig*(x[1]-x[0])\n",
    "    xdot[1] = rho*x[0]-x[1]-x[0]*x[2]\n",
    "    xdot[2] = x[0]*x[1]-bet*x[2]\n",
    "    return (xdot)"
   ]
  },
  {
   "cell_type": "code",
   "execution_count": null,
   "metadata": {},
   "outputs": [],
   "source": [
    "#function of \n",
    "def computeDerivatives(t,x):\n",
    "    xdot=np.zeros(3).reshape(3,1)\n",
    "    sig=10.0\n",
    "    rho=28.0\n",
    "    bet=8.0/3.0\n",
    "    xdot[0]=sig*(x[1]-x[0])\n",
    "    xdot[1] = rho*x[0]-x[1]-x[0]*x[2]\n",
    "    xdot[2] = x[0]*x[1]-bet*x[2]\n",
    "    return (xdot)"
   ]
  },
  {
   "cell_type": "code",
   "execution_count": null,
   "metadata": {},
   "outputs": [],
   "source": [
    "def computeLLE(system, t, dt):\n",
    "    d0 = 10e-8\n",
    "    evolveSystem(system, 10000, t, dt)\n",
    "    testPoint = getTestPoint(system,d0)\n",
    "    x = system\n",
    "    d1 = 0.0\n",
    "    l = 0.0\n",
    "    for i in range(64100):\n",
    "        testPoint = evolveOther(testPoint, t)\n",
    "        x = evolve(system, t, dt)\n",
    "        if (isUnbounded(x)):\n",
    "            return np.nan\n",
    "        d1 = math.sqrt((testPoint  - x)**2)\n",
    "        if i >100:\n",
    "            l = l + math.log(d1/d0)\n",
    "        for j in range(len(x)):\n",
    "            testPoint[j] = x[j] + (d0/d1)*(testPoint[j]) - x[j]\n",
    "    return l/63999*system.getStepSize()\n",
    "        \n",
    "        \n",
    "        \n",
    "def evolveSystem(system, times, t, dt):\n",
    "    for i in range(times):\n",
    "        evolve(system, t, dt)\n",
    "            \n",
    "            \n",
    "def getTestPoint(system, d0):\n",
    "    testPoint= []\n",
    "    print(system)\n",
    "    denom = math.sqrt(len(system))\n",
    "    x = system\n",
    "    for i in range(len(x)):\n",
    "        testPoint.append( x[i] + d0/denom)\n",
    "    return testPoint\n",
    "    \n",
    "def isUnbounded(x):\n",
    "    absSum = 0.0\n",
    "    print(x)\n",
    "    for i in range(len(x)):\n",
    "        absSum += abs(x[i])\n",
    "    print(absSum)\n",
    "    if absSum >= 10e6:\n",
    "        return True\n",
    "    else:\n",
    "        return False\n"
   ]
  },
  {
   "cell_type": "code",
   "execution_count": null,
   "metadata": {},
   "outputs": [],
   "source": [
    "10e6"
   ]
  },
  {
   "cell_type": "code",
   "execution_count": null,
   "metadata": {},
   "outputs": [],
   "source": [
    "from scipy.integrate import quad\n",
    "\n",
    "def DynamicalSystem(x0 , dt):\n",
    "    dimension = len(x0)\n",
    "    x = len(x0)\n",
    "    dt = dt\n",
    "    t = 0.0\n",
    "    k1 = len(x0)\n",
    "    k2 = len(x0)\n",
    "    k3 = len(x0)\n",
    "    k4 = len(x0)\n",
    "    return x0, 0, x, 0, len(x0)\n",
    "\n",
    "def evolve(x, t, dt):\n",
    "    t = t\n",
    "    x = x\n",
    "    dt = dt\n",
    "    x = odeint(lorenz, (u0, v0, w0), t, args=(sigma, beta, rho))\n",
    "    t += dt;                           \n",
    "    return x\n",
    "def evolveOther(xOther, t):\n",
    "    t= t\n",
    "    result = odeint(lorenz, (u0, v0, w0), t, args=(sigma, beta, rho)) \n",
    "    return result"
   ]
  },
  {
   "cell_type": "code",
   "execution_count": null,
   "metadata": {},
   "outputs": [],
   "source": []
  },
  {
   "cell_type": "code",
   "execution_count": null,
   "metadata": {},
   "outputs": [],
   "source": [
    "def computeDerivatives(t, x, xDot):\n",
    "    return t, x, xDot"
   ]
  },
  {
   "cell_type": "code",
   "execution_count": null,
   "metadata": {},
   "outputs": [],
   "source": [
    "def getDimension():\n",
    "    return dimension\n"
   ]
  },
  {
   "cell_type": "code",
   "execution_count": null,
   "metadata": {},
   "outputs": [],
   "source": [
    "from scipy.integrate import odeint"
   ]
  },
  {
   "cell_type": "code",
   "execution_count": null,
   "metadata": {},
   "outputs": [],
   "source": []
  },
  {
   "cell_type": "code",
   "execution_count": null,
   "metadata": {},
   "outputs": [],
   "source": [
    "import pandas as pd\n",
    "df = pd.read_excel(r'C:\\Users\\INFO-DSK-02\\Desktop\\Lorentz\\Lorentz_Requirements_04032020\\Lyapunov Exponent J. C. Sprott\\Input_Data\\lorentz_noise_data_1.xlsx')"
   ]
  },
  {
   "cell_type": "code",
   "execution_count": null,
   "metadata": {},
   "outputs": [],
   "source": [
    "import numpy as np\n",
    "import math\n",
    "x = np.array(df['x'])"
   ]
  },
  {
   "cell_type": "code",
   "execution_count": null,
   "metadata": {},
   "outputs": [],
   "source": [
    "computeLLE(x, 10, 0.01)"
   ]
  },
  {
   "cell_type": "code",
   "execution_count": null,
   "metadata": {},
   "outputs": [],
   "source": []
  }
 ],
 "metadata": {
  "kernelspec": {
   "display_name": "Python 3",
   "language": "python",
   "name": "python3"
  },
  "language_info": {
   "codemirror_mode": {
    "name": "ipython",
    "version": 3
   },
   "file_extension": ".py",
   "mimetype": "text/x-python",
   "name": "python",
   "nbconvert_exporter": "python",
   "pygments_lexer": "ipython3",
   "version": "3.7.1"
  }
 },
 "nbformat": 4,
 "nbformat_minor": 2
}
